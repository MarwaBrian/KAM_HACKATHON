{
 "cells": [
  {
   "cell_type": "code",
   "execution_count": 28,
   "metadata": {},
   "outputs": [],
   "source": [
    "import pandas as pd\n",
    "import numpy as np\n",
    "import matplotlib.pyplot as plt\n",
    "import seaborn as sns\n",
    "import re\n"
   ]
  },
  {
   "cell_type": "code",
   "execution_count": 4,
   "metadata": {},
   "outputs": [],
   "source": [
    "#Load your DataFrames\n",
    "jan2020 = pd.read_csv('./filtered_simba/2020 Jan-June_filtered.csv')\n",
    "feb2021 = pd.read_csv('./filtered_simba/2021 Jan-June_filtered.csv')\n",
    "june22 = pd.read_csv('./filtered_simba/2022 Jan-June_filtered.csv')\n",
    "july22 = pd.read_csv('./filtered_simba/2022 Jul-Dec_filtered.csv')\n",
    "june23 = pd.read_csv('./filtered_simba/2023_filtered.csv')\n",
    "july23 = pd.read_csv('./filtered_simba/2023_filtered.csv')\n",
    "\n",
    "#Prepare sets of columns for comparison\n",
    "cols_jan2020 = set(jan2020.columns)\n",
    "cols_feb2021 = set(feb2021.columns)\n",
    "cols_june22 = set(june22.columns)\n",
    "cols_july22 = set(july22.columns)\n",
    "cols_june23 = set(june23.columns)\n",
    "cols_july23 = set(july23.columns)\n",
    "\n",
    "# List of column sets for easy comparison\n",
    "column_sets = [cols_jan2020, cols_feb2021, cols_june22, cols_july22, cols_june23, cols_july23]\n"
   ]
  },
  {
   "cell_type": "code",
   "execution_count": 5,
   "metadata": {},
   "outputs": [
    {
     "name": "stdout",
     "output_type": "stream",
     "text": [
      "Common columns across all DataFrames:\n",
      "{'VEHICLE_TAX', 'PRL', 'CUSTOMSVALUE', 'IMPORT_DUTY', 'COUNTRYOFORIGIN', 'BIF', 'VAT_RATE', 'MONTH_', 'IMPORT_VAT', 'HS_CHAPTER', 'DUTY_RATE', 'TAX_PAYABLE', 'YEAR', 'FOB', 'TAX_REMITTED', 'FOBCURRENCYCODE', 'REGIME', 'COUNTRYOFDESTINATION', 'HSCODE', 'REGDATE', 'QUANTITY', 'CPC', 'PORT_OF_DISCHARGE', 'PDL', 'EXCISE_RATE', 'OTHER_TAX', 'CIF_VALUE', 'ENTRYSTATUS', 'ENTRY_NUMBER', 'ITEM_NO', 'RML', 'EXCISE', 'DESCRIPTION'}\n",
      "\n",
      "DataFrame 1 has no unique columns.\n",
      "\n",
      "DataFrame 2 has no unique columns.\n",
      "\n",
      "DataFrame 3 has no unique columns.\n",
      "\n",
      "DataFrame 4 has no unique columns.\n",
      "\n",
      "DataFrame 5 has no unique columns.\n",
      "\n",
      "DataFrame 6 has no unique columns.\n",
      "\n"
     ]
    }
   ],
   "source": [
    "# Find the intersection of all columns (common columns)\n",
    "common_columns = set.intersection(*column_sets)\n",
    "print(f\"Common columns across all DataFrames:\\n{common_columns}\\n\")\n",
    "\n",
    "# Find unique columns in each DataFrame\n",
    "for i, cols in enumerate(column_sets):\n",
    "    unique_cols = cols - common_columns\n",
    "    if unique_cols:\n",
    "        print(f\"Unique columns in DataFrame {i + 1}:\\n{unique_cols}\\n\")\n",
    "    else:\n",
    "        print(f\"DataFrame {i + 1} has no unique columns.\\n\")\n"
   ]
  },
  {
   "cell_type": "code",
   "execution_count": null,
   "metadata": {},
   "outputs": [],
   "source": []
  },
  {
   "cell_type": "code",
   "execution_count": 6,
   "metadata": {},
   "outputs": [
    {
     "name": "stdout",
     "output_type": "stream",
     "text": [
      "Error converting column 12 in DataFrame 1: expected string or bytes-like object, got 'int'\n",
      "Processed DataFrame 1.\n",
      "Error converting column 12 in DataFrame 2: expected string or bytes-like object, got 'int'\n",
      "Processed DataFrame 2.\n",
      "Error converting column 12 in DataFrame 3: expected string or bytes-like object, got 'int'\n",
      "Processed DataFrame 3.\n",
      "Error converting column 12 in DataFrame 4: expected string or bytes-like object, got 'int'\n",
      "Processed DataFrame 4.\n",
      "Error converting column 12 in DataFrame 5: expected string or bytes-like object, got 'int'\n",
      "Error converting column 28 in DataFrame 5: expected string or bytes-like object, got 'int'\n",
      "Error converting column 29 in DataFrame 5: expected string or bytes-like object, got 'int'\n",
      "Processed DataFrame 5.\n",
      "Error converting column 12 in DataFrame 6: expected string or bytes-like object, got 'int'\n",
      "Error converting column 28 in DataFrame 6: expected string or bytes-like object, got 'int'\n",
      "Error converting column 29 in DataFrame 6: expected string or bytes-like object, got 'int'\n",
      "Processed DataFrame 6.\n"
     ]
    },
    {
     "name": "stderr",
     "output_type": "stream",
     "text": [
      "/tmp/ipykernel_532183/1903567206.py:29: DeprecationWarning: In a future version, `df.iloc[:, i] = newvals` will attempt to set the values inplace instead of always setting a new array. To retain the old behavior, use either `df[df.columns[i]] = newvals` or, if columns are non-unique, `df.isetitem(i, newvals)`\n",
      "  df.iloc[:, col_index] = df.iloc[:, col_index].apply(clean_and_convert)\n"
     ]
    }
   ],
   "source": [
    "dataframes = [jan2020, feb2021, june22, july22, june23, july23]\n",
    "\n",
    "# Column indices you want to clean and convert to float\n",
    "columns_of_interest = [9, 10, 12, 22, 23, 24, 25, 28, 29, 32]\n",
    "\n",
    "# Function to clean and convert data to float using regular expressions\n",
    "def clean_and_convert(value):\n",
    "    if isinstance(value, float):  # If it's already a float, return it as is\n",
    "        return value\n",
    "    # Remove any non-numeric characters except for '.' (for decimals)\n",
    "    cleaned_value = re.sub(r'[^\\d.]', '', value)\n",
    "    \n",
    "    # Remove commas (if they exist after numbers)\n",
    "    cleaned_value = cleaned_value.replace(',', '')\n",
    "\n",
    "    # Convert to float if possible, else return NaN\n",
    "    try:\n",
    "        return float(cleaned_value)\n",
    "    except ValueError:\n",
    "        return np.nan\n",
    "\n",
    "# Loop through each DataFrame and clean/convert the specified columns\n",
    "for i, df in enumerate(dataframes):\n",
    "    for col_index in columns_of_interest:\n",
    "        if col_index < df.shape[1]:  # Check if column index is within bounds\n",
    "            if not pd.api.types.is_float_dtype(df.iloc[:, col_index]):  # Check if the column is not already float\n",
    "                try:\n",
    "                    # Apply the cleaning and conversion function\n",
    "                    df.iloc[:, col_index] = df.iloc[:, col_index].apply(clean_and_convert)\n",
    "                except Exception as e:\n",
    "                    # Print the error, DataFrame index, and column index\n",
    "                    print(f\"Error converting column {col_index} in DataFrame {i+1}: {e}\")\n",
    "        else:\n",
    "            print(f\"Column {col_index} is out-of-bounds in DataFrame {i+1}.\")\n",
    "    print(f\"Processed DataFrame {i+1}.\")"
   ]
  },
  {
   "cell_type": "code",
   "execution_count": 7,
   "metadata": {},
   "outputs": [
    {
     "name": "stdout",
     "output_type": "stream",
     "text": [
      "\n",
      "DataFrame 1 info:\n",
      "<class 'pandas.core.frame.DataFrame'>\n",
      "RangeIndex: 3772 entries, 0 to 3771\n",
      "Data columns (total 10 columns):\n",
      " #   Column                Non-Null Count  Dtype  \n",
      "---  ------                --------------  -----  \n",
      " 0   COUNTRYOFDESTINATION  0 non-null      float64\n",
      " 1   PORT_OF_DISCHARGE     0 non-null      float64\n",
      " 2   HSCODE                3772 non-null   int64  \n",
      " 3   DUTY_RATE             2594 non-null   float64\n",
      " 4   EXCISE_RATE           2594 non-null   float64\n",
      " 5   VAT_RATE              2594 non-null   float64\n",
      " 6   BIF                   506 non-null    float64\n",
      " 7   PRL                   2594 non-null   float64\n",
      " 8   PDL                   2594 non-null   float64\n",
      " 9   TAX_REMITTED          2258 non-null   float64\n",
      "dtypes: float64(9), int64(1)\n",
      "memory usage: 294.8 KB\n",
      "\n",
      "DataFrame 2 info:\n",
      "<class 'pandas.core.frame.DataFrame'>\n",
      "RangeIndex: 2555 entries, 0 to 2554\n",
      "Data columns (total 10 columns):\n",
      " #   Column                Non-Null Count  Dtype  \n",
      "---  ------                --------------  -----  \n",
      " 0   COUNTRYOFDESTINATION  0 non-null      float64\n",
      " 1   PORT_OF_DISCHARGE     0 non-null      float64\n",
      " 2   HSCODE                2555 non-null   int64  \n",
      " 3   DUTY_RATE             2538 non-null   float64\n",
      " 4   EXCISE_RATE           2538 non-null   float64\n",
      " 5   VAT_RATE              2538 non-null   float64\n",
      " 6   BIF                   458 non-null    float64\n",
      " 7   PRL                   2538 non-null   float64\n",
      " 8   PDL                   2538 non-null   float64\n",
      " 9   TAX_REMITTED          2230 non-null   float64\n",
      "dtypes: float64(9), int64(1)\n",
      "memory usage: 199.7 KB\n",
      "\n",
      "DataFrame 3 info:\n",
      "<class 'pandas.core.frame.DataFrame'>\n",
      "RangeIndex: 233 entries, 0 to 232\n",
      "Data columns (total 10 columns):\n",
      " #   Column                Non-Null Count  Dtype  \n",
      "---  ------                --------------  -----  \n",
      " 0   COUNTRYOFDESTINATION  0 non-null      float64\n",
      " 1   PORT_OF_DISCHARGE     0 non-null      float64\n",
      " 2   HSCODE                233 non-null    int64  \n",
      " 3   DUTY_RATE             224 non-null    float64\n",
      " 4   EXCISE_RATE           224 non-null    float64\n",
      " 5   VAT_RATE              224 non-null    float64\n",
      " 6   BIF                   54 non-null     float64\n",
      " 7   PRL                   224 non-null    float64\n",
      " 8   PDL                   224 non-null    float64\n",
      " 9   TAX_REMITTED          162 non-null    float64\n",
      "dtypes: float64(9), int64(1)\n",
      "memory usage: 18.3 KB\n",
      "\n",
      "DataFrame 4 info:\n",
      "<class 'pandas.core.frame.DataFrame'>\n",
      "RangeIndex: 15 entries, 0 to 14\n",
      "Data columns (total 10 columns):\n",
      " #   Column                Non-Null Count  Dtype  \n",
      "---  ------                --------------  -----  \n",
      " 0   COUNTRYOFDESTINATION  0 non-null      float64\n",
      " 1   PORT_OF_DISCHARGE     0 non-null      float64\n",
      " 2   HSCODE                15 non-null     int64  \n",
      " 3   DUTY_RATE             9 non-null      float64\n",
      " 4   EXCISE_RATE           9 non-null      float64\n",
      " 5   VAT_RATE              9 non-null      float64\n",
      " 6   BIF                   3 non-null      float64\n",
      " 7   PRL                   9 non-null      float64\n",
      " 8   PDL                   9 non-null      float64\n",
      " 9   TAX_REMITTED          10 non-null     float64\n",
      "dtypes: float64(9), int64(1)\n",
      "memory usage: 1.3 KB\n",
      "\n",
      "DataFrame 5 info:\n",
      "<class 'pandas.core.frame.DataFrame'>\n",
      "RangeIndex: 1 entries, 0 to 0\n",
      "Data columns (total 10 columns):\n",
      " #   Column                Non-Null Count  Dtype  \n",
      "---  ------                --------------  -----  \n",
      " 0   COUNTRYOFDESTINATION  0 non-null      float64\n",
      " 1   PORT_OF_DISCHARGE     0 non-null      float64\n",
      " 2   HSCODE                1 non-null      int64  \n",
      " 3   DUTY_RATE             1 non-null      float64\n",
      " 4   EXCISE_RATE           1 non-null      float64\n",
      " 5   VAT_RATE              1 non-null      float64\n",
      " 6   BIF                   0 non-null      float64\n",
      " 7   PRL                   1 non-null      int64  \n",
      " 8   PDL                   1 non-null      int64  \n",
      " 9   TAX_REMITTED          1 non-null      float64\n",
      "dtypes: float64(7), int64(3)\n",
      "memory usage: 212.0 bytes\n",
      "\n",
      "DataFrame 6 info:\n",
      "<class 'pandas.core.frame.DataFrame'>\n",
      "RangeIndex: 1 entries, 0 to 0\n",
      "Data columns (total 10 columns):\n",
      " #   Column                Non-Null Count  Dtype  \n",
      "---  ------                --------------  -----  \n",
      " 0   COUNTRYOFDESTINATION  0 non-null      float64\n",
      " 1   PORT_OF_DISCHARGE     0 non-null      float64\n",
      " 2   HSCODE                1 non-null      int64  \n",
      " 3   DUTY_RATE             1 non-null      float64\n",
      " 4   EXCISE_RATE           1 non-null      float64\n",
      " 5   VAT_RATE              1 non-null      float64\n",
      " 6   BIF                   0 non-null      float64\n",
      " 7   PRL                   1 non-null      int64  \n",
      " 8   PDL                   1 non-null      int64  \n",
      " 9   TAX_REMITTED          1 non-null      float64\n",
      "dtypes: float64(7), int64(3)\n",
      "memory usage: 212.0 bytes\n"
     ]
    }
   ],
   "source": [
    "# Loop through each DataFrame to inspect the data types of the specified columns\n",
    "for i, df in enumerate(dataframes):\n",
    "    print(f\"\\nDataFrame {i+1} info:\")\n",
    "    df.iloc[:, columns_of_interest].info()\n"
   ]
  },
  {
   "cell_type": "code",
   "execution_count": null,
   "metadata": {},
   "outputs": [],
   "source": []
  },
  {
   "cell_type": "code",
   "execution_count": 8,
   "metadata": {},
   "outputs": [
    {
     "name": "stdout",
     "output_type": "stream",
     "text": [
      "Common columns across all DataFrames:\n",
      "{'VEHICLE_TAX', 'PRL', 'CUSTOMSVALUE', 'IMPORT_DUTY', 'COUNTRYOFORIGIN', 'BIF', 'VAT_RATE', 'MONTH_', 'IMPORT_VAT', 'HS_CHAPTER', 'DUTY_RATE', 'TAX_PAYABLE', 'YEAR', 'FOB', 'TAX_REMITTED', 'FOBCURRENCYCODE', 'REGIME', 'COUNTRYOFDESTINATION', 'HSCODE', 'REGDATE', 'QUANTITY', 'CPC', 'PORT_OF_DISCHARGE', 'PDL', 'EXCISE_RATE', 'OTHER_TAX', 'CIF_VALUE', 'ENTRYSTATUS', 'ENTRY_NUMBER', 'ITEM_NO', 'RML', 'EXCISE', 'DESCRIPTION'}\n",
      "\n",
      "DataFrame 1 has no unique columns.\n",
      "\n",
      "DataFrame 2 has no unique columns.\n",
      "\n",
      "DataFrame 3 has no unique columns.\n",
      "\n",
      "DataFrame 4 has no unique columns.\n",
      "\n",
      "DataFrame 5 has no unique columns.\n",
      "\n",
      "DataFrame 6 has no unique columns.\n",
      "\n"
     ]
    }
   ],
   "source": [
    "# Extract columns from each DataFrame\n",
    "cols_jan2020 = set(jan2020.columns)\n",
    "cols_feb2021 = set(feb2021.columns)\n",
    "cols_june22 = set(june22.columns)\n",
    "cols_july22 = set(july22.columns)\n",
    "cols_june23 = set(june23.columns)\n",
    "cols_july23 = set(july23.columns)\n",
    "\n",
    "# List of column sets for easy comparison\n",
    "column_sets = [cols_jan2020, cols_feb2021, cols_june22, cols_july22, cols_june23, cols_july23]\n",
    "\n",
    "# Find the intersection of all columns (common columns)\n",
    "common_columns = set.intersection(*column_sets)\n",
    "print(f\"Common columns across all DataFrames:\\n{common_columns}\\n\")\n",
    "\n",
    "# Find unique columns in each DataFrame\n",
    "for i, cols in enumerate(column_sets):\n",
    "    unique_cols = cols - common_columns\n",
    "    if unique_cols:\n",
    "        print(f\"Unique columns in DataFrame {i + 1}:\\n{unique_cols}\\n\")\n",
    "    else:\n",
    "        print(f\"DataFrame {i + 1} has no unique columns.\\n\")\n"
   ]
  },
  {
   "cell_type": "code",
   "execution_count": 9,
   "metadata": {},
   "outputs": [],
   "source": [
    "# combined_df = pd.concat([jan2020, feb2021, june22, july22, june23, july23], ignore_index=True)\n",
    "\n",
    "# # Save the combined DataFrame to a CSV file\n",
    "# combined_df.to_csv('comb_icms.csv', index=False)\n",
    "\n",
    "# print(\"Combined DataFrame has been saved as 'comb_icms.csv'.\")"
   ]
  },
  {
   "cell_type": "code",
   "execution_count": 10,
   "metadata": {},
   "outputs": [],
   "source": [
    "# simbjan20 = pd.read_csv('./filtered_simba/2020 Jan-June_filtered.csv')\n",
    "# simbjuly20 = pd.read_csv('./filtered_simba/2020 Jul-Dec_filtered.csv')\n",
    "# simbjan21 = pd.read_csv('./filtered_simba/2021 Jan-June_filtered.csv')\n",
    "# simbjuly21 = pd.read_csv('./filtered_simba/2021 Jul-Dec_filtered.csv')\n",
    "# simbjan22 = pd.read_csv('./filtered_simba/2022 Jan-June_filtered.csv')\n",
    "# simbjuly22 = pd.read_csv('./filtered_simba/2022 Jul-Dec_filtered.csv')\n",
    "# simb23 = pd.read_csv('./filtered_simba/2023_filtered.csv')"
   ]
  },
  {
   "cell_type": "code",
   "execution_count": 11,
   "metadata": {},
   "outputs": [],
   "source": [
    "# Extract columns from each DataFrame\n",
    "# cols_simbjan20 = set(simbjan20.columns)\n",
    "# cols_simbjuly20 = set(simbjuly20.columns)\n",
    "# cols_simbjan21 = set(simbjan21.columns)\n",
    "# cols_simbjuly21 = set(simbjuly21.columns)\n",
    "# cols_simbjan22 = set(simbjan22.columns)\n",
    "# cols_simbjuly22 = set(simbjuly22.columns)\n",
    "# cols_simb23 = set(simb23.columns)\n",
    "\n",
    "# # List of column sets for easy comparison\n",
    "# column_sets = [cols_simbjan20, cols_simbjuly20, cols_simbjan21, cols_simbjuly21, cols_simbjan22, cols_simbjuly22, cols_simb23]\n",
    "\n",
    "# # Find the intersection of all columns (common columns)\n",
    "# common_columns = set.intersection(*column_sets)\n",
    "# print(f\"Common columns across all Simba DataFrames:\\n{common_columns}\\n\")\n",
    "\n",
    "# # Find unique columns in each DataFrame\n",
    "# for i, cols in enumerate(column_sets):\n",
    "#     unique_cols = cols - common_columns\n",
    "#     if unique_cols:\n",
    "#         print(f\"Unique columns in Simba DataFrame {i + 1}:\\n{unique_cols}\\n\")\n",
    "#     else:\n",
    "#         print(f\"Simba DataFrame {i + 1} has no unique columns.\\n\")\n"
   ]
  },
  {
   "cell_type": "code",
   "execution_count": 12,
   "metadata": {},
   "outputs": [],
   "source": [
    "# If all columns are the same, combine the DataFrames\n",
    "# if all(cols == cols_simbjan20 for cols in column_sets):\n",
    "#     combined_simba_df = pd.concat([simbjan20, simbjuly20, simbjan21, simbjuly21, simbjan22, simbjuly22, simb23], ignore_index=True)\n",
    "#     print(\"All columns are the same. DataFrames combined.\")\n",
    "# else:\n",
    "#     print(\"Columns are not the same. Cannot combine DataFrames directly.\")\n"
   ]
  },
  {
   "cell_type": "code",
   "execution_count": 13,
   "metadata": {},
   "outputs": [],
   "source": [
    "# Save the combined DataFrame to a CSV file if they were combined\n",
    "# if 'combined_simba_df' in locals():\n",
    "#     combined_simba_df.to_csv('./final_data/comb_simba.csv', index=False)\n",
    "#     print(\"Combined Simba DataFrame has been saved as 'comb_simba.csv'.\")\n"
   ]
  },
  {
   "cell_type": "code",
   "execution_count": 14,
   "metadata": {},
   "outputs": [],
   "source": [
    "#loading the datasets\n",
    "# icms = pd.read_csv('./final_data/comb_icms.csv')\n",
    "simba = pd.read_csv('./final_data/comb_simba.csv')\n",
    "exports = pd.read_csv('./final_data/dom_exports.csv')\n"
   ]
  },
  {
   "cell_type": "code",
   "execution_count": 3,
   "metadata": {},
   "outputs": [
    {
     "name": "stdout",
     "output_type": "stream",
     "text": [
      "<class 'pandas.core.frame.DataFrame'>\n",
      "RangeIndex: 18563 entries, 0 to 18562\n",
      "Data columns (total 34 columns):\n",
      " #   Column                  Non-Null Count  Dtype \n",
      "---  ------                  --------------  ----- \n",
      " 0   YEAR                    18563 non-null  int64 \n",
      " 1   MONTH                   18563 non-null  object\n",
      " 2   ENTRY_NUMBER            18563 non-null  object\n",
      " 3   VERSION                 18563 non-null  int64 \n",
      " 4   ITEM_NUM                18563 non-null  int64 \n",
      " 5   ENTRYSTATUS             18563 non-null  object\n",
      " 6   REG_DATE                18563 non-null  object\n",
      " 7   REGIME                  18563 non-null  object\n",
      " 8   CPC                     18563 non-null  object\n",
      " 9   QUANTITY                18563 non-null  object\n",
      " 10  FOB_VALUE               18563 non-null  object\n",
      " 11  CURRENCY                18563 non-null  object\n",
      " 12  ENTRY_CUSTOM_VALUE      18563 non-null  object\n",
      " 13  HS_CHAPTER              18563 non-null  int64 \n",
      " 14  HSCODE                  18563 non-null  int64 \n",
      " 15  GOOD_DESCRIPTION        18563 non-null  object\n",
      " 16  ORIGIN_COUNTRY_CODE     18563 non-null  object\n",
      " 17  ORIGIN_COUNTRY_NAME     18563 non-null  object\n",
      " 18  COUNTRY_OF_DESTINATION  18561 non-null  object\n",
      " 19  COD_NAME                18561 non-null  object\n",
      " 20  STATION                 18563 non-null  object\n",
      " 21  PLACE_OF_DISCHARGE      18563 non-null  object\n",
      " 22  TOTAL_TAX_PAYABLE       18563 non-null  object\n",
      " 23  TOTAL_TAX_PAID          18563 non-null  object\n",
      " 24  IMPORT_DUTY             18563 non-null  object\n",
      " 25  IMPORT_VAT              18563 non-null  object\n",
      " 26  EXCISE                  18563 non-null  int64 \n",
      " 27  EXPORT_DUTY             18563 non-null  int64 \n",
      " 28  IDF                     18563 non-null  object\n",
      " 29  RDL                     18563 non-null  object\n",
      " 30  RML                     18563 non-null  int64 \n",
      " 31  PRL                     18563 non-null  int64 \n",
      " 32  MSS                     18563 non-null  object\n",
      " 33  OTHER_TAX               18563 non-null  object\n",
      "dtypes: int64(9), object(25)\n",
      "memory usage: 4.8+ MB\n"
     ]
    }
   ],
   "source": [
    "# icms.info()"
   ]
  },
  {
   "cell_type": "code",
   "execution_count": 15,
   "metadata": {},
   "outputs": [],
   "source": [
    "standardized_columns = {\n",
    "    'year': 'year',\n",
    "    'month': 'month',\n",
    "    'month_': 'month',\n",
    "    'entry_number': 'entry_number',\n",
    "    'version': 'version',\n",
    "    'item_no': 'item_no',\n",
    "    'item_num': 'item_no',\n",
    "    'entrystatus': 'entrystatus',\n",
    "    'regdate': 'regdate',\n",
    "    'reg_date': 'regdate',\n",
    "    'regime': 'regime',\n",
    "    'cpc': 'cpc',\n",
    "    'countryoforigin': 'countryoforigin',\n",
    "    'origin_country_code': 'countryoforigin',\n",
    "    'origin_country_name': 'origin_country_name',\n",
    "    'countryofdestination': 'countryofdestination',\n",
    "    'country_of_destination': 'countryofdestination',\n",
    "    'port_of_discharge': 'port_of_discharge',\n",
    "    'place_of_discharge': 'port_of_discharge',\n",
    "    'hs_chapter': 'hs_chapter',\n",
    "    'hscode': 'hscode',\n",
    "    'description': 'description',\n",
    "    'good_description': 'description',\n",
    "    'quantity': 'quantity',\n",
    "    'fob': 'fob_value',\n",
    "    'fob_value': 'fob_value',\n",
    "    'fobcurrencycode': 'currency',\n",
    "    'currency': 'currency',\n",
    "    'customsvalue': 'entry_custom_value',\n",
    "    'entry_custom_value': 'entry_custom_value',\n",
    "    'import_duty': 'import_duty',\n",
    "    'import_vat': 'import_vat',\n",
    "    'excise': 'excise',\n",
    "    'vat_rate': 'vat_rate',\n",
    "    'excise_rate': 'excise_rate',\n",
    "    'duty_rate': 'duty_rate',\n",
    "    'tax_payable': 'total_tax_payable',\n",
    "    'total_tax_payable': 'total_tax_payable',\n",
    "    'tax_remitted': 'total_tax_paid',\n",
    "    'total_tax_paid': 'total_tax_paid',\n",
    "    'rml': 'rml',\n",
    "    'prl': 'prl',\n",
    "    'other_tax': 'other_tax',\n",
    "}\n",
    "\n",
    "# Function to rename columns\n",
    "def rename(df, col_map):\n",
    "    # Lowercase the columns in the DataFrame\n",
    "    df.columns = df.columns.str.lower().str.strip()\n",
    "    # Rename the columns using the mapping dictionary\n",
    "    df.rename(columns=col_map, inplace=True)\n",
    "    return df\n",
    "\n",
    "copy_simba = simba.copy()\n",
    "# copy_icms = filtered_icms.copy()"
   ]
  },
  {
   "cell_type": "markdown",
   "metadata": {},
   "source": [
    "# Exploratory Data Analysis"
   ]
  },
  {
   "cell_type": "markdown",
   "metadata": {},
   "source": [
    "## Imports Data\n",
    "Lets begin with imports data."
   ]
  },
  {
   "cell_type": "markdown",
   "metadata": {},
   "source": [
    "# Univariate"
   ]
  },
  {
   "cell_type": "code",
   "execution_count": 3,
   "metadata": {},
   "outputs": [
    {
     "name": "stdout",
     "output_type": "stream",
     "text": [
      "<class 'pandas.core.frame.DataFrame'>\n",
      "RangeIndex: 12656 entries, 0 to 12655\n",
      "Data columns (total 33 columns):\n",
      " #   Column                Non-Null Count  Dtype  \n",
      "---  ------                --------------  -----  \n",
      " 0   year                  12656 non-null  int64  \n",
      " 1   month_                12656 non-null  object \n",
      " 2   entry_number          12656 non-null  object \n",
      " 3   entrystatus           12656 non-null  object \n",
      " 4   item_no               12656 non-null  int64  \n",
      " 5   regdate               10335 non-null  object \n",
      " 6   regime                12656 non-null  object \n",
      " 7   cpc                   12656 non-null  object \n",
      " 8   countryoforigin       12656 non-null  object \n",
      " 9   countryofdestination  3578 non-null   object \n",
      " 10  port_of_discharge     12656 non-null  object \n",
      " 11  hs_chapter            12656 non-null  int64  \n",
      " 12  hscode                12656 non-null  int64  \n",
      " 13  description           12656 non-null  object \n",
      " 14  quantity              12656 non-null  object \n",
      " 15  fob                   12656 non-null  object \n",
      " 16  fobcurrencycode       10782 non-null  object \n",
      " 17  cif_value             12656 non-null  object \n",
      " 18  customsvalue          12656 non-null  object \n",
      " 19  import_duty           10462 non-null  object \n",
      " 20  excise                10462 non-null  float64\n",
      " 21  import_vat            10462 non-null  object \n",
      " 22  duty_rate             10462 non-null  float64\n",
      " 23  excise_rate           10462 non-null  float64\n",
      " 24  vat_rate              10462 non-null  float64\n",
      " 25  bif                   507 non-null    float64\n",
      " 26  vehicle_tax           10462 non-null  float64\n",
      " 27  rml                   10462 non-null  float64\n",
      " 28  prl                   10462 non-null  float64\n",
      " 29  pdl                   10462 non-null  float64\n",
      " 30  other_tax             10462 non-null  float64\n",
      " 31  tax_payable           5366 non-null   float64\n",
      " 32  tax_remitted          2291 non-null   float64\n",
      "dtypes: float64(12), int64(4), object(17)\n",
      "memory usage: 3.2+ MB\n"
     ]
    }
   ],
   "source": [
    "# copy_simba[copy_simba['FOB'].apply(clean_and_convert)]\n",
    "gp_simba = pd.read_csv('./final_data/cleaned_comb_simba.csv')\n",
    "\n",
    "gp_simba.info()"
   ]
  },
  {
   "cell_type": "code",
   "execution_count": 8,
   "metadata": {},
   "outputs": [
    {
     "name": "stdout",
     "output_type": "stream",
     "text": [
      "<class 'pandas.core.frame.DataFrame'>\n",
      "RangeIndex: 12656 entries, 0 to 12655\n",
      "Data columns (total 33 columns):\n",
      " #   Column                Non-Null Count  Dtype  \n",
      "---  ------                --------------  -----  \n",
      " 0   year                  12656 non-null  int64  \n",
      " 1   month_                12656 non-null  object \n",
      " 2   entry_number          12656 non-null  object \n",
      " 3   entrystatus           12656 non-null  object \n",
      " 4   item_no               12656 non-null  int64  \n",
      " 5   regdate               10335 non-null  object \n",
      " 6   regime                12656 non-null  object \n",
      " 7   cpc                   12656 non-null  object \n",
      " 8   countryoforigin       12656 non-null  object \n",
      " 9   countryofdestination  3578 non-null   object \n",
      " 10  port_of_discharge     12656 non-null  object \n",
      " 11  hs_chapter            12656 non-null  int64  \n",
      " 12  hscode                12656 non-null  int64  \n",
      " 13  description           12656 non-null  object \n",
      " 14  quantity              12656 non-null  object \n",
      " 15  fob                   12656 non-null  object \n",
      " 16  fobcurrencycode       10782 non-null  object \n",
      " 17  cif_value             12656 non-null  object \n",
      " 18  customsvalue          12656 non-null  object \n",
      " 19  import_duty           10462 non-null  object \n",
      " 20  excise                10462 non-null  float64\n",
      " 21  import_vat            10462 non-null  object \n",
      " 22  duty_rate             10462 non-null  float64\n",
      " 23  excise_rate           10462 non-null  float64\n",
      " 24  vat_rate              10462 non-null  float64\n",
      " 25  bif                   507 non-null    float64\n",
      " 26  vehicle_tax           10462 non-null  float64\n",
      " 27  rml                   10462 non-null  float64\n",
      " 28  prl                   10462 non-null  float64\n",
      " 29  pdl                   10462 non-null  float64\n",
      " 30  other_tax             10462 non-null  float64\n",
      " 31  tax_payable           5366 non-null   float64\n",
      " 32  tax_remitted          2291 non-null   float64\n",
      "dtypes: float64(12), int64(4), object(17)\n",
      "memory usage: 3.2+ MB\n"
     ]
    }
   ],
   "source": [
    "gp_icms = pd.read_csv('./final_data/cleaned_comb_icms.csv')\n",
    "\n",
    "gp_simba.info()"
   ]
  },
  {
   "cell_type": "code",
   "execution_count": 11,
   "metadata": {},
   "outputs": [
    {
     "data": {
      "image/png": "[encoded data removed]",
      "text/plain": [
       "<Figure size 1000x600 with 1 Axes>"
      ]
     },
     "metadata": {},
     "output_type": "display_data"
    },
    {
     "data": {
      "image/png": "[encoded data removed]",
      "text/plain": [
       "<Figure size 1000x600 with 1 Axes>"
      ]
     },
     "metadata": {},
     "output_type": "display_data"
    },
    {
     "data": {
      "image/png": "[encoded data removed]",
      "text/plain": [
       "<Figure size 1000x600 with 1 Axes>"
      ]
     },
     "metadata": {},
     "output_type": "display_data"
    },
    {
     "data": {
      "image/png": "[encoded data removed]",
      "text/plain": [
       "<Figure size 1000x600 with 1 Axes>"
      ]
     },
     "metadata": {},
     "output_type": "display_data"
    },
    {
     "data": {
      "image/png": "[encoded data removed]",
      "text/plain": [
       "<Figure size 1000x600 with 1 Axes>"
      ]
     },
     "metadata": {},
     "output_type": "display_data"
    },
    {
     "data": {
      "image/png": "[encoded data removed]",
      "text/plain": [
       "<Figure size 1000x600 with 1 Axes>"
      ]
     },
     "metadata": {},
     "output_type": "display_data"
    },
    {
     "data": {
      "image/png": "[encoded data removed]",
      "text/plain": [
       "<Figure size 1000x600 with 1 Axes>"
      ]
     },
     "metadata": {},
     "output_type": "display_data"
    }
   ],
   "source": [
    "columns = ['year', 'hs_chapter', 'month_', 'hscode', 'countryoforigin', \n",
    "            'countryofdestination', 'port_of_discharge'\n",
    "           ]\n",
    "\n",
    "for col in columns:\n",
    "    plt.figure(figsize=(10, 6))\n",
    "    sns.countplot(x=col, data=gp_simba)\n",
    "    plt.title(f'Count plot for {col}')\n",
    "    plt.xticks(rotation=45)\n",
    "    plt.show()"
   ]
  },
  {
   "cell_type": "markdown",
   "metadata": {},
   "source": [
    "## Bivariate\n",
    "Combining two columns to see how they relate to each other."
   ]
  },
  {
   "cell_type": "code",
   "execution_count": 15,
   "metadata": {},
   "outputs": [
    {
     "name": "stdout",
     "output_type": "stream",
     "text": [
      "<class 'pandas.core.frame.DataFrame'>\n",
      "RangeIndex: 12656 entries, 0 to 12655\n",
      "Data columns (total 33 columns):\n",
      " #   Column                Non-Null Count  Dtype  \n",
      "---  ------                --------------  -----  \n",
      " 0   year                  12656 non-null  int64  \n",
      " 1   month_                12656 non-null  object \n",
      " 2   entry_number          12656 non-null  object \n",
      " 3   entrystatus           12656 non-null  object \n",
      " 4   item_no               12656 non-null  int64  \n",
      " 5   regdate               10335 non-null  object \n",
      " 6   regime                12656 non-null  object \n",
      " 7   cpc                   12656 non-null  object \n",
      " 8   countryoforigin       12656 non-null  object \n",
      " 9   countryofdestination  3578 non-null   object \n",
      " 10  port_of_discharge     12656 non-null  object \n",
      " 11  hs_chapter            12656 non-null  int64  \n",
      " 12  hscode                12656 non-null  int64  \n",
      " 13  description           12656 non-null  object \n",
      " 14  quantity              12656 non-null  object \n",
      " 15  fob                   12656 non-null  object \n",
      " 16  fobcurrencycode       10782 non-null  object \n",
      " 17  cif_value             12656 non-null  object \n",
      " 18  customsvalue          12656 non-null  object \n",
      " 19  import_duty           10462 non-null  object \n",
      " 20  excise                10462 non-null  float64\n",
      " 21  import_vat            10462 non-null  object \n",
      " 22  duty_rate             10462 non-null  float64\n",
      " 23  excise_rate           10462 non-null  float64\n",
      " 24  vat_rate              10462 non-null  float64\n",
      " 25  bif                   507 non-null    float64\n",
      " 26  vehicle_tax           10462 non-null  float64\n",
      " 27  rml                   10462 non-null  float64\n",
      " 28  prl                   10462 non-null  float64\n",
      " 29  pdl                   10462 non-null  float64\n",
      " 30  other_tax             10462 non-null  float64\n",
      " 31  tax_payable           5366 non-null   float64\n",
      " 32  tax_remitted          2291 non-null   float64\n",
      "dtypes: float64(12), int64(4), object(17)\n",
      "memory usage: 3.2+ MB\n"
     ]
    }
   ],
   "source": [
    "gp_simba.info()"
   ]
  },
  {
   "cell_type": "code",
   "execution_count": 22,
   "metadata": {},
   "outputs": [],
   "source": [
    "plt.figure(figsize=(10, 6))\n",
    "sns.scatterplot(x='cif_value', y='customsvalue', data=gp_simba)\n",
    "plt.title('Scatter plot between CIF Value and Customs Value')\n",
    "plt.show()\n"
   ]
  },
  {
   "cell_type": "code",
   "execution_count": null,
   "metadata": {},
   "outputs": [],
   "source": [
    "plt.figure(figsize=(12, 8))\n",
    "sns.heatmap(gp_simba[['excise', 'import_duty', 'vat_rate', 'duty_rate', \n",
    "                            'vehicle_tax', 'rml', 'prl', 'pdl', 'other_tax']].corr(), \n",
    "            annot=True, cmap='coolwarm')\n",
    "plt.title('Correlation heatmap of selected columns')\n",
    "plt.show()\n"
   ]
  },
  {
   "cell_type": "code",
   "execution_count": null,
   "metadata": {},
   "outputs": [],
   "source": [
    "plt.figure(figsize=(10, 6))\n",
    "sns.boxplot(x='countryoforigin', y='cif_value', data=gp_simba)\n",
    "plt.title('Box plot of CIF Value by Country of Origin')\n",
    "plt.xticks(rotation=45)\n",
    "plt.show()\n"
   ]
  },
  {
   "cell_type": "code",
   "execution_count": null,
   "metadata": {},
   "outputs": [],
   "source": [
    "plt.figure(figsize=(10, 6))\n",
    "sns.barplot(x='regime', y='tax_payable', data=gp_simba)\n",
    "plt.title('Bar plot of Tax Payable by Regime')\n",
    "plt.xticks(rotation=45)\n",
    "plt.show()\n"
   ]
  },
  {
   "cell_type": "code",
   "execution_count": null,
   "metadata": {},
   "outputs": [],
   "source": [
    "sns.pairplot(gp_simba[['excise', 'import_duty', 'vat_rate', 'duty_rate']])\n",
    "plt.suptitle('Pair plot of selected columns', y=1.02)\n",
    "plt.show()\n"
   ]
  },
  {
   "cell_type": "code",
   "execution_count": null,
   "metadata": {},
   "outputs": [],
   "source": [
    "sns.jointplot(x='fob', y='cif_value', data=gp_simba, kind='scatter')\n",
    "plt.show()\n"
   ]
  },
  {
   "cell_type": "code",
   "execution_count": null,
   "metadata": {},
   "outputs": [],
   "source": [
    "plt.figure(figsize=(10, 6))\n",
    "sns.countplot(x='countryoforigin', hue='regime', data=gp_simba)\n",
    "plt.title('Count plot of Country of Origin with Regime as Hue')\n",
    "plt.xticks(rotation=45)\n",
    "plt.show()\n"
   ]
  },
  {
   "cell_type": "code",
   "execution_count": null,
   "metadata": {},
   "outputs": [],
   "source": []
  },
  {
   "cell_type": "code",
   "execution_count": null,
   "metadata": {},
   "outputs": [],
   "source": []
  },
  {
   "cell_type": "code",
   "execution_count": null,
   "metadata": {},
   "outputs": [],
   "source": []
  },
  {
   "cell_type": "markdown",
   "metadata": {},
   "source": [
    "## Data Cleaning for the Database\n"
   ]
  },
  {
   "cell_type": "code",
   "execution_count": 1,
   "metadata": {},
   "outputs": [],
   "source": [
    "import pandas as pd \n",
    "import numpy as np\n",
    "import re\n",
    "\n",
    "\n",
    "df_exports = pd.read_csv('./final_data/dom_exports.csv')\n",
    "simba = pd.read_csv('./final_data/comb_simba.csv')\n",
    "asimba = pd.read_csv('./final_data/cleaned_comb_simba.csv')"
   ]
  },
  {
   "cell_type": "code",
   "execution_count": 3,
   "metadata": {},
   "outputs": [],
   "source": [
    "standardized_columns = {\n",
    "    'year': 'year',\n",
    "    'month': 'month',\n",
    "    'month_': 'month',\n",
    "    'entry_number': 'entry_number',\n",
    "    'version': 'version',\n",
    "    'item_no': 'item_no',\n",
    "    'item_num': 'item_no',\n",
    "    'entrystatus': 'entrystatus',\n",
    "    'regdate': 'regdate',\n",
    "    'reg_date': 'regdate',\n",
    "    'regime': 'regime',\n",
    "    'cpc': 'cpc',\n",
    "    'countryoforigin': 'countryoforigin',\n",
    "    'origin_country_code': 'countryoforigin',\n",
    "    'origin_country_name': 'origin_country_name',\n",
    "    'countryofdestination': 'countryofdestination',\n",
    "    'country_of_destination': 'countryofdestination',\n",
    "    'port_of_discharge': 'port_of_discharge',\n",
    "    'place_of_discharge': 'port_of_discharge',\n",
    "    'hs_chapter': 'hs_chapter',\n",
    "    'hscode': 'hscode',\n",
    "    'description': 'description',\n",
    "    'good_description': 'description',\n",
    "    'quantity': 'quantity',\n",
    "    'fob': 'fob_value',\n",
    "    'fob_value': 'fob_value',\n",
    "    'fobcurrencycode': 'currency',\n",
    "    'currency': 'currency',\n",
    "    'customsvalue': 'entry_custom_value',\n",
    "    'entry_custom_value': 'entry_custom_value',\n",
    "    'import_duty': 'import_duty',\n",
    "    'import_vat': 'import_vat',\n",
    "    'excise': 'excise',\n",
    "    'vat_rate': 'vat_rate',\n",
    "    'excise_rate': 'excise_rate',\n",
    "    'duty_rate': 'duty_rate',\n",
    "    'tax_payable': 'total_tax_payable',\n",
    "    'total_tax_payable': 'total_tax_payable',\n",
    "    'tax_remitted': 'total_tax_paid',\n",
    "    'total_tax_paid': 'total_tax_paid',\n",
    "    'rml': 'rml',\n",
    "    'prl': 'prl',\n",
    "    'other_tax': 'other_tax',\n",
    "}\n",
    "\n",
    "# Function to rename columns\n",
    "def rename(df, col_map):\n",
    "    # Lowercase the columns in the DataFrame\n",
    "    df.columns = df.columns.str.lower().str.strip()\n",
    "    # Rename the columns using the mapping dictionary\n",
    "    df.rename(columns=col_map, inplace=True)\n",
    "    return df\n",
    "\n",
    "copy_simba = rename(simba, standardized_columns)"
   ]
  },
  {
   "cell_type": "code",
   "execution_count": 4,
   "metadata": {},
   "outputs": [
    {
     "name": "stdout",
     "output_type": "stream",
     "text": [
      "<class 'pandas.core.frame.DataFrame'>\n",
      "RangeIndex: 12656 entries, 0 to 12655\n",
      "Data columns (total 32 columns):\n",
      " #   Column                Non-Null Count  Dtype         \n",
      "---  ------                --------------  -----         \n",
      " 0   entry_number          12656 non-null  object        \n",
      " 1   entrystatus           12656 non-null  object        \n",
      " 2   item_no               12656 non-null  int64         \n",
      " 3   regdate               12656 non-null  object        \n",
      " 4   regime                12656 non-null  object        \n",
      " 5   cpc                   12656 non-null  object        \n",
      " 6   countryoforigin       12656 non-null  object        \n",
      " 7   countryofdestination  3578 non-null   object        \n",
      " 8   port_of_discharge     12656 non-null  object        \n",
      " 9   hs_chapter            12656 non-null  int64         \n",
      " 10  hscode                12656 non-null  int64         \n",
      " 11  description           12656 non-null  object        \n",
      " 12  quantity              12656 non-null  object        \n",
      " 13  fob_value             12656 non-null  object        \n",
      " 14  currency              10782 non-null  object        \n",
      " 15  cif_value             12656 non-null  object        \n",
      " 16  entry_custom_value    12656 non-null  object        \n",
      " 17  import_duty           10462 non-null  object        \n",
      " 18  excise                10462 non-null  float64       \n",
      " 19  import_vat            10462 non-null  object        \n",
      " 20  duty_rate             10462 non-null  float64       \n",
      " 21  excise_rate           10462 non-null  float64       \n",
      " 22  vat_rate              10462 non-null  float64       \n",
      " 23  bif                   2068 non-null   object        \n",
      " 24  vehicle_tax           10462 non-null  float64       \n",
      " 25  rml                   10462 non-null  float64       \n",
      " 26  prl                   10462 non-null  float64       \n",
      " 27  pdl                   10462 non-null  float64       \n",
      " 28  other_tax             10462 non-null  float64       \n",
      " 29  total_tax_payable     12656 non-null  object        \n",
      " 30  total_tax_paid        9027 non-null   object        \n",
      " 31  date                  12656 non-null  datetime64[ns]\n",
      "dtypes: datetime64[ns](1), float64(9), int64(3), object(19)\n",
      "memory usage: 3.1+ MB\n"
     ]
    }
   ],
   "source": [
    "copy_simba['date'] = pd.to_datetime(copy_simba['month'] + '-01', format='%Y-%m-%d')\n",
    "\n",
    "# Drop the original year and month columns if no longer needed\n",
    "copy_simba.drop(['year', 'month'], axis=1, inplace=True)\n",
    "\n",
    "copy_simba.info()\n"
   ]
  },
  {
   "cell_type": "code",
   "execution_count": 5,
   "metadata": {},
   "outputs": [],
   "source": [
    "# Define columns to drop\n",
    "columns_to_drop = [\n",
    "    'entry_number',    # Entry Number: If not used for primary analysis or identification\n",
    "    'entrystatus',     # Entry Status: If not required for analysis\n",
    "    'cpc',             # CPC: If not used for your specific analysis\n",
    "    'description',      # Description: If not providing actionable insights\n",
    "    'item_no',\n",
    "    'regime',\n",
    "    'bif',\n",
    "    'rml',\n",
    "    'pdl',\n",
    "    'prl',\n",
    "    'excise',\n",
    "    'excise_rate',\n",
    "    'vehicle_tax'\n",
    "]\n",
    "\n",
    "# Drop the columns from the DataFrame\n",
    "df = copy_simba.drop(columns=columns_to_drop)\n"
   ]
  },
  {
   "cell_type": "code",
   "execution_count": 6,
   "metadata": {},
   "outputs": [
    {
     "name": "stdout",
     "output_type": "stream",
     "text": [
      "<class 'pandas.core.frame.DataFrame'>\n",
      "RangeIndex: 12656 entries, 0 to 12655\n",
      "Data columns (total 19 columns):\n",
      " #   Column                Non-Null Count  Dtype         \n",
      "---  ------                --------------  -----         \n",
      " 0   regdate               12656 non-null  object        \n",
      " 1   countryoforigin       12656 non-null  object        \n",
      " 2   countryofdestination  3578 non-null   object        \n",
      " 3   port_of_discharge     12656 non-null  object        \n",
      " 4   hs_chapter            12656 non-null  int64         \n",
      " 5   hscode                12656 non-null  int64         \n",
      " 6   quantity              12656 non-null  object        \n",
      " 7   fob_value             12656 non-null  object        \n",
      " 8   currency              10782 non-null  object        \n",
      " 9   cif_value             12656 non-null  object        \n",
      " 10  entry_custom_value    12656 non-null  object        \n",
      " 11  import_duty           10462 non-null  object        \n",
      " 12  import_vat            10462 non-null  object        \n",
      " 13  duty_rate             10462 non-null  float64       \n",
      " 14  vat_rate              10462 non-null  float64       \n",
      " 15  other_tax             10462 non-null  float64       \n",
      " 16  total_tax_payable     12656 non-null  object        \n",
      " 17  total_tax_paid        9027 non-null   object        \n",
      " 18  date                  12656 non-null  datetime64[ns]\n",
      "dtypes: datetime64[ns](1), float64(3), int64(2), object(13)\n",
      "memory usage: 1.8+ MB\n"
     ]
    }
   ],
   "source": [
    "df.info()"
   ]
  },
  {
   "cell_type": "code",
   "execution_count": 7,
   "metadata": {},
   "outputs": [],
   "source": [
    "# Fill missing values in 'countryofdestination' with 'KE'\n",
    "df['countryofdestination'] = df['countryofdestination'].fillna('KE')\n"
   ]
  },
  {
   "cell_type": "code",
   "execution_count": 8,
   "metadata": {},
   "outputs": [],
   "source": [
    "# Fill missing values in 'currency' with 'KES'\n",
    "df['currency'] = df['currency'].fillna('KES')\n"
   ]
  },
  {
   "cell_type": "code",
   "execution_count": 9,
   "metadata": {},
   "outputs": [],
   "source": [
    "df['vat_rate'] = df['vat_rate'].fillna(16.0)"
   ]
  },
  {
   "cell_type": "code",
   "execution_count": 10,
   "metadata": {},
   "outputs": [
    {
     "data": {
      "text/plain": [
       "array([16.,  0., 14.])"
      ]
     },
     "execution_count": 10,
     "metadata": {},
     "output_type": "execute_result"
    }
   ],
   "source": [
    "df['vat_rate'].unique()"
   ]
  },
  {
   "cell_type": "code",
   "execution_count": 11,
   "metadata": {},
   "outputs": [
    {
     "name": "stdout",
     "output_type": "stream",
     "text": [
      "<class 'pandas.core.frame.DataFrame'>\n",
      "RangeIndex: 12656 entries, 0 to 12655\n",
      "Data columns (total 19 columns):\n",
      " #   Column                Non-Null Count  Dtype         \n",
      "---  ------                --------------  -----         \n",
      " 0   regdate               12656 non-null  object        \n",
      " 1   countryoforigin       12656 non-null  object        \n",
      " 2   countryofdestination  12656 non-null  object        \n",
      " 3   port_of_discharge     12656 non-null  object        \n",
      " 4   hs_chapter            12656 non-null  int64         \n",
      " 5   hscode                12656 non-null  int64         \n",
      " 6   quantity              12656 non-null  object        \n",
      " 7   fob_value             12656 non-null  object        \n",
      " 8   currency              12656 non-null  object        \n",
      " 9   cif_value             12656 non-null  object        \n",
      " 10  entry_custom_value    12656 non-null  object        \n",
      " 11  import_duty           10462 non-null  object        \n",
      " 12  import_vat            10462 non-null  object        \n",
      " 13  duty_rate             10462 non-null  float64       \n",
      " 14  vat_rate              12656 non-null  float64       \n",
      " 15  other_tax             10462 non-null  float64       \n",
      " 16  total_tax_payable     12656 non-null  object        \n",
      " 17  total_tax_paid        9027 non-null   object        \n",
      " 18  date                  12656 non-null  datetime64[ns]\n",
      "dtypes: datetime64[ns](1), float64(3), int64(2), object(13)\n",
      "memory usage: 1.8+ MB\n"
     ]
    }
   ],
   "source": [
    "df.info()"
   ]
  },
  {
   "cell_type": "code",
   "execution_count": 13,
   "metadata": {},
   "outputs": [],
   "source": [
    "df['import_duty'] = pd.to_numeric(df['import_duty'], errors='coerce')\n",
    "df['cif_value'] = pd.to_numeric(df['cif_value'], errors='coerce')"
   ]
  },
  {
   "cell_type": "code",
   "execution_count": 14,
   "metadata": {},
   "outputs": [
    {
     "name": "stdout",
     "output_type": "stream",
     "text": [
      "<class 'pandas.core.frame.DataFrame'>\n",
      "RangeIndex: 12656 entries, 0 to 12655\n",
      "Data columns (total 19 columns):\n",
      " #   Column                Non-Null Count  Dtype         \n",
      "---  ------                --------------  -----         \n",
      " 0   regdate               12656 non-null  object        \n",
      " 1   countryoforigin       12656 non-null  object        \n",
      " 2   countryofdestination  12656 non-null  object        \n",
      " 3   port_of_discharge     12656 non-null  object        \n",
      " 4   hs_chapter            12656 non-null  int64         \n",
      " 5   hscode                12656 non-null  int64         \n",
      " 6   quantity              12656 non-null  object        \n",
      " 7   fob_value             12656 non-null  object        \n",
      " 8   currency              12656 non-null  object        \n",
      " 9   cif_value             3879 non-null   float64       \n",
      " 10  entry_custom_value    12656 non-null  object        \n",
      " 11  import_duty           2967 non-null   float64       \n",
      " 12  import_vat            10462 non-null  object        \n",
      " 13  duty_rate             10462 non-null  float64       \n",
      " 14  vat_rate              12656 non-null  float64       \n",
      " 15  other_tax             10462 non-null  float64       \n",
      " 16  total_tax_payable     12656 non-null  object        \n",
      " 17  total_tax_paid        9027 non-null   object        \n",
      " 18  date                  12656 non-null  datetime64[ns]\n",
      "dtypes: datetime64[ns](1), float64(5), int64(2), object(11)\n",
      "memory usage: 1.8+ MB\n"
     ]
    }
   ],
   "source": [
    "df.info()"
   ]
  },
  {
   "cell_type": "code",
   "execution_count": 15,
   "metadata": {},
   "outputs": [],
   "source": [
    "import pandas as pd\n",
    "\n",
    "def strip_and_convert_to_float(df, columns):\n",
    "    \"\"\"\n",
    "    Strips commas and converts specified columns to float.\n",
    "\n",
    "    Parameters:\n",
    "    df (pd.DataFrame): The input DataFrame.\n",
    "    columns (list): A list of column names to be converted to float.\n",
    "\n",
    "    Returns:\n",
    "    pd.DataFrame: The DataFrame with specified columns converted to float.\n",
    "    \"\"\"\n",
    "    for col in columns:\n",
    "        df[col] = df[col].apply(lambda x: float(str(x).replace(',', '')) if pd.notnull(x) else x)\n",
    "    return df\n",
    "\n",
    "# Example usage\n",
    "columns_to_convert = [\n",
    "    'quantity',\n",
    "    'fob_value',\n",
    "    'entry_custom_value',\n",
    "    'import_vat',\n",
    "    'total_tax_payable',\n",
    "    'total_tax_paid'\n",
    "]\n",
    "\n",
    "# Assuming df is your DataFrame\n",
    "df = strip_and_convert_to_float(df, columns_to_convert)\n"
   ]
  },
  {
   "cell_type": "code",
   "execution_count": 17,
   "metadata": {},
   "outputs": [
    {
     "name": "stdout",
     "output_type": "stream",
     "text": [
      "<class 'pandas.core.frame.DataFrame'>\n",
      "RangeIndex: 12656 entries, 0 to 12655\n",
      "Data columns (total 19 columns):\n",
      " #   Column                Non-Null Count  Dtype         \n",
      "---  ------                --------------  -----         \n",
      " 0   regdate               12656 non-null  object        \n",
      " 1   countryoforigin       12656 non-null  object        \n",
      " 2   countryofdestination  12656 non-null  object        \n",
      " 3   port_of_discharge     12656 non-null  object        \n",
      " 4   hs_chapter            12656 non-null  int64         \n",
      " 5   hscode                12656 non-null  int64         \n",
      " 6   quantity              12656 non-null  float64       \n",
      " 7   fob_value             12656 non-null  float64       \n",
      " 8   currency              12656 non-null  object        \n",
      " 9   cif_value             3879 non-null   float64       \n",
      " 10  entry_custom_value    12656 non-null  float64       \n",
      " 11  import_duty           2967 non-null   float64       \n",
      " 12  import_vat            10462 non-null  float64       \n",
      " 13  duty_rate             10462 non-null  float64       \n",
      " 14  vat_rate              12656 non-null  float64       \n",
      " 15  other_tax             10462 non-null  float64       \n",
      " 16  total_tax_payable     12656 non-null  float64       \n",
      " 17  total_tax_paid        9027 non-null   float64       \n",
      " 18  date                  12656 non-null  datetime64[ns]\n",
      "dtypes: datetime64[ns](1), float64(11), int64(2), object(5)\n",
      "memory usage: 1.8+ MB\n"
     ]
    },
    {
     "data": {
      "text/plain": [
       "array([  0., 250.,  nan])"
      ]
     },
     "execution_count": 17,
     "metadata": {},
     "output_type": "execute_result"
    }
   ],
   "source": [
    "df.info()\n",
    "df['other_tax'].unique()"
   ]
  },
  {
   "cell_type": "code",
   "execution_count": null,
   "metadata": {},
   "outputs": [],
   "source": []
  },
  {
   "cell_type": "markdown",
   "metadata": {},
   "source": [
    "### Modelling (mvp)"
   ]
  },
  {
   "cell_type": "code",
   "execution_count": 18,
   "metadata": {},
   "outputs": [
    {
     "name": "stdout",
     "output_type": "stream",
     "text": [
      "Duty Rate MSE: 0.4057817023740591\n",
      "VAT Rate MSE: 7.411696583671119e-05\n"
     ]
    }
   ],
   "source": [
    "import pandas as pd\n",
    "from sklearn.model_selection import train_test_split\n",
    "from sklearn.ensemble import RandomForestRegressor\n",
    "from sklearn.metrics import mean_squared_error\n",
    "import streamlit as st\n",
    "\n",
    "# Load the data\n",
    "data = df.copy()\n",
    "\n",
    "# Convert `regdate` to datetime if it's not already\n",
    "data['regdate'] = pd.to_datetime(data['regdate'], errors='coerce')\n",
    "\n",
    "# Handle null values\n",
    "# Drop rows where 'duty_rate' or 'vat_rate' is null, as these are our target variables\n",
    "data = data.dropna(subset=['duty_rate', 'vat_rate'])\n",
    "\n",
    "# Fill other missing values with the mean (for numerical columns) or the mode (for categorical columns)\n",
    "data['cif_value'].fillna(data['cif_value'].mean(), inplace=True)\n",
    "data['import_duty'].fillna(data['import_duty'].mean(), inplace=True)\n",
    "data['import_vat'].fillna(data['import_vat'].mean(), inplace=True)\n",
    "data['other_tax'].fillna(data['other_tax'].mean(), inplace=True)\n",
    "data['total_tax_paid'].fillna(data['total_tax_paid'].mean(), inplace=True)\n",
    "\n",
    "# Check for consistency\n",
    "# Remove any rows where key columns have inconsistent or erroneous entries (e.g., negative quantities or values)\n",
    "data = data[(data['quantity'] > 0) & (data['fob_value'] > 0) & (data['entry_custom_value'] > 0)]\n",
    "\n",
    "# Feature engineering: Extract features like year and month from the date\n",
    "data['year'] = data['date'].dt.year\n",
    "data['month'] = data['date'].dt.month\n",
    "\n",
    "# Encode categorical variables\n",
    "data = pd.get_dummies(data, columns=['countryoforigin', 'countryofdestination', 'port_of_discharge', 'currency'], drop_first=True)\n",
    "\n",
    "# Select features and target variables\n",
    "X = data.drop(columns=['duty_rate', 'vat_rate', 'regdate', 'date'])\n",
    "y_duty_rate = data['duty_rate']\n",
    "y_vat_rate = data['vat_rate']\n",
    "\n",
    "# Split data into training and test sets\n",
    "X_train, X_test, y_train_duty, y_test_duty = train_test_split(X, y_duty_rate, test_size=0.2, random_state=42)\n",
    "X_train_vat, X_test_vat, y_train_vat, y_test_vat = train_test_split(X, y_vat_rate, test_size=0.2, random_state=42)\n",
    "\n",
    "# Initialize and train models\n",
    "duty_model = RandomForestRegressor(n_estimators=100, random_state=42)\n",
    "vat_model = RandomForestRegressor(n_estimators=100, random_state=42)\n",
    "\n",
    "duty_model.fit(X_train, y_train_duty)\n",
    "vat_model.fit(X_train_vat, y_train_vat)\n",
    "\n",
    "# Predict and evaluate\n",
    "duty_predictions = duty_model.predict(X_test)\n",
    "vat_predictions = vat_model.predict(X_test_vat)\n",
    "\n",
    "duty_mse = mean_squared_error(y_test_duty, duty_predictions)\n",
    "vat_mse = mean_squared_error(y_test_vat, vat_predictions)\n",
    "\n",
    "print(f'Duty Rate MSE: {duty_mse}')\n",
    "print(f'VAT Rate MSE: {vat_mse}')\n"
   ]
  },
  {
   "cell_type": "markdown",
   "metadata": {},
   "source": [
    "very good mse for both the duty rate and vat rate"
   ]
  },
  {
   "cell_type": "code",
   "execution_count": 20,
   "metadata": {},
   "outputs": [
    {
     "data": {
      "text/plain": [
       "['vat_model.pkl']"
      ]
     },
     "execution_count": 20,
     "metadata": {},
     "output_type": "execute_result"
    }
   ],
   "source": [
    "import joblib\n",
    "\n",
    "# Train the models as shown in the previous example\n",
    "duty_model = RandomForestRegressor(n_estimators=100, random_state=42)\n",
    "vat_model = RandomForestRegressor(n_estimators=100, random_state=42)\n",
    "\n",
    "duty_model.fit(X_train, y_train_duty)\n",
    "vat_model.fit(X_train_vat, y_train_vat)\n",
    "\n",
    "# Save the trained models to .pkl files\n",
    "joblib.dump(duty_model, 'duty_model.pkl')\n",
    "joblib.dump(vat_model, 'vat_model.pkl')\n"
   ]
  },
  {
   "cell_type": "code",
   "execution_count": null,
   "metadata": {},
   "outputs": [],
   "source": []
  },
  {
   "cell_type": "code",
   "execution_count": 21,
   "metadata": {},
   "outputs": [
    {
     "name": "stderr",
     "output_type": "stream",
     "text": [
      "2024-08-23 02:23:10.441 \n",
      "  \u001b[33m\u001b[1mWarning:\u001b[0m to view this Streamlit app on a browser, run it with the following\n",
      "  command:\n",
      "\n",
      "    streamlit run /home/marwa254/anaconda3/lib/python3.11/site-packages/ipykernel_launcher.py [ARGUMENTS]\n"
     ]
    }
   ],
   "source": [
    "import streamlit as st\n",
    "import pandas as pd\n",
    "import numpy as np\n",
    "from sklearn.ensemble import RandomForestRegressor\n",
    "import joblib\n",
    "\n",
    "# Load trained models (assuming you've saved them after training)\n",
    "duty_model = joblib.load('duty_model.pkl')\n",
    "vat_model = joblib.load('vat_model.pkl')\n",
    "\n",
    "# Streamlit App\n",
    "st.title('Import Duty and VAT Rate Prediction')\n",
    "\n",
    "# Inputs from user\n",
    "quantity = st.number_input('Quantity', min_value=0.0, value=1.0)\n",
    "fob_value = st.number_input('FOB Value', min_value=0.0, value=1000.0)\n",
    "entry_custom_value = st.number_input('Entry Custom Value', min_value=0.0, value=1000.0)\n",
    "cif_value = st.number_input('CIF Value', min_value=0.0, value=1000.0)\n",
    "year = st.number_input('Year', min_value=2000, value=2024)\n",
    "month = st.number_input('Month', min_value=1, max_value=12, value=8)\n",
    "\n",
    "# Assuming you're using a similar encoding process for categorical variables\n",
    "countryoforigin = st.selectbox('Country of Origin', ['Country_A', 'Country_B', 'Country_C'])\n",
    "countryofdestination = st.selectbox('Country of Destination', ['Country_X', 'Country_Y', 'Country_Z'])\n",
    "port_of_discharge = st.selectbox('Port of Discharge', ['Port_1', 'Port_2', 'Port_3'])\n",
    "currency = st.selectbox('Currency', ['USD', 'EUR', 'KSH'])\n",
    "\n",
    "# Create the feature vector for prediction\n",
    "input_data = {\n",
    "    'quantity': quantity,\n",
    "    'fob_value': fob_value,\n",
    "    'entry_custom_value': entry_custom_value,\n",
    "    'cif_value': cif_value,\n",
    "    'year': year,\n",
    "    'month': month,\n",
    "    f'countryoforigin_{countryoforigin}': 1,\n",
    "    f'countryofdestination_{countryofdestination}': 1,\n",
    "    f'port_of_discharge_{port_of_discharge}': 1,\n",
    "    f'currency_{currency}': 1\n",
    "}\n",
    "\n",
    "# Ensure all columns are present\n",
    "input_df = pd.DataFrame([input_data])\n",
    "input_df = input_df.reindex(columns=X.columns, fill_value=0)\n",
    "\n",
    "# Predict duty and VAT rates\n",
    "predicted_duty_rate = duty_model.predict(input_df)\n",
    "predicted_vat_rate = vat_model.predict(input_df)\n",
    "\n",
    "st.write(f\"Predicted Duty Rate: {predicted_duty_rate[0]}\")\n",
    "st.write(f\"Predicted VAT Rate: {predicted_vat_rate[0]}\")\n"
   ]
  },
  {
   "cell_type": "code",
   "execution_count": null,
   "metadata": {},
   "outputs": [],
   "source": []
  },
  {
   "cell_type": "code",
   "execution_count": null,
   "metadata": {},
   "outputs": [],
   "source": []
  },
  {
   "cell_type": "code",
   "execution_count": null,
   "metadata": {},
   "outputs": [],
   "source": []
  },
  {
   "cell_type": "code",
   "execution_count": null,
   "metadata": {},
   "outputs": [],
   "source": []
  },
  {
   "cell_type": "code",
   "execution_count": null,
   "metadata": {},
   "outputs": [],
   "source": []
  },
  {
   "cell_type": "code",
   "execution_count": 40,
   "metadata": {},
   "outputs": [
    {
     "name": "stdout",
     "output_type": "stream",
     "text": [
      "<class 'pandas.core.frame.DataFrame'>\n",
      "Int64Index: 8993 entries, 0 to 12655\n",
      "Data columns (total 22 columns):\n",
      " #   Column                Non-Null Count  Dtype         \n",
      "---  ------                --------------  -----         \n",
      " 0   regdate               8993 non-null   object        \n",
      " 1   countryoforigin       8993 non-null   object        \n",
      " 2   countryofdestination  8993 non-null   object        \n",
      " 3   port_of_discharge     8993 non-null   object        \n",
      " 4   hs_chapter            8993 non-null   int64         \n",
      " 5   hscode                8993 non-null   int64         \n",
      " 6   quantity              8993 non-null   float64       \n",
      " 7   fob_value             8993 non-null   float64       \n",
      " 8   currency              8993 non-null   object        \n",
      " 9   cif_value             2340 non-null   float64       \n",
      " 10  entry_custom_value    8993 non-null   float64       \n",
      " 11  import_duty           2608 non-null   float64       \n",
      " 12  excise                8993 non-null   float64       \n",
      " 13  import_vat            8993 non-null   float64       \n",
      " 14  duty_rate             8993 non-null   float64       \n",
      " 15  excise_rate           8993 non-null   float64       \n",
      " 16  vat_rate              8993 non-null   float64       \n",
      " 17  vehicle_tax           8993 non-null   float64       \n",
      " 18  other_tax             8993 non-null   float64       \n",
      " 19  total_tax_payable     8993 non-null   float64       \n",
      " 20  total_tax_paid        8993 non-null   float64       \n",
      " 21  date                  8993 non-null   datetime64[ns]\n",
      "dtypes: datetime64[ns](1), float64(14), int64(2), object(5)\n",
      "memory usage: 1.6+ MB\n"
     ]
    }
   ],
   "source": [
    "# Drop rows with nulls in target columns\n",
    "numeric_columns = ['quantity', 'fob_value', 'entry_custom_value', 'import_vat', \n",
    "                   'total_tax_payable', 'total_tax_paid']\n",
    "\n",
    "# Convert these columns to numeric, coercing errors to NaN\n",
    "df[numeric_columns] = df[numeric_columns].apply(pd.to_numeric, errors='coerce')\n",
    "\n",
    "# Drop rows where any of these columns have NaN values\n",
    "df_clean = df.dropna(subset=numeric_columns)\n",
    "\n",
    "df_clean.info()"
   ]
  },
  {
   "cell_type": "code",
   "execution_count": 42,
   "metadata": {},
   "outputs": [],
   "source": [
    "# Convert the cleaned DataFrame to a JSON file\n",
    "df_clean.to_json('cleaned_imports_data.json', orient='records', lines=True)\n"
   ]
  },
  {
   "cell_type": "code",
   "execution_count": 47,
   "metadata": {},
   "outputs": [],
   "source": [
    "# Convert columns to relevant data types\n",
    "df_exports['year'] = df_exports['year'].astype(int)\n",
    "df_exports['month'] = df_exports['month'].astype(int)\n",
    "df_exports['hs_code'] = df_exports['hs_code'].astype(int)\n",
    "df_exports['quantity'] = df_exports['quantity'].astype(float)\n",
    "df_exports['fob_value'] = df_exports['fob_value'].astype(float)\n",
    "df_exports['destination'] = df_exports['destination'].astype(str)\n",
    "df_exports['countryname'] = df_exports['countryname'].astype(str)\n",
    "df_exports['short_desc'] = df_exports['short_desc'].astype(str)\n",
    "df_exports['unit'] = df_exports['unit'].astype(str)  # Keep as string, even with NaNs\n"
   ]
  },
  {
   "cell_type": "code",
   "execution_count": 48,
   "metadata": {},
   "outputs": [],
   "source": [
    "# Convert the standardized exports DataFrame to a JSON file\n",
    "df_exports.to_json('cleaned_exports_data.json', orient='records', lines=True)\n"
   ]
  },
  {
   "cell_type": "code",
   "execution_count": null,
   "metadata": {},
   "outputs": [],
   "source": []
  },
  {
   "cell_type": "code",
   "execution_count": 45,
   "metadata": {},
   "outputs": [],
   "source": [
    "# Standardize column names by converting to lowercase and replacing spaces with underscores\n",
    "df_exports.columns = df_exports.columns.str.lower().str.replace(' ', '_')\n"
   ]
  },
  {
   "cell_type": "code",
   "execution_count": null,
   "metadata": {},
   "outputs": [],
   "source": []
  },
  {
   "cell_type": "code",
   "execution_count": null,
   "metadata": {},
   "outputs": [],
   "source": []
  },
  {
   "cell_type": "code",
   "execution_count": 38,
   "metadata": {},
   "outputs": [],
   "source": [
    "# Features and targets\n",
    "features = df_clean.drop(columns=['import_duty', 'excise', 'total_tax_paid'])\n",
    "target_import_duty = df_clean['import_duty']\n",
    "target_excise = df_clean['excise']\n",
    "target_total_tax_paid = df_clean['total_tax_paid']\n"
   ]
  },
  {
   "cell_type": "code",
   "execution_count": 39,
   "metadata": {},
   "outputs": [
    {
     "ename": "ValueError",
     "evalue": "could not convert string to float: '08/28/2020 15:55:44'",
     "output_type": "error",
     "traceback": [
      "\u001b[0;31m---------------------------------------------------------------------------\u001b[0m",
      "\u001b[0;31mValueError\u001b[0m                                Traceback (most recent call last)",
      "Cell \u001b[0;32mIn[39], line 11\u001b[0m\n\u001b[1;32m      9\u001b[0m \u001b[38;5;66;03m# Using Linear Regression\u001b[39;00m\n\u001b[1;32m     10\u001b[0m model \u001b[38;5;241m=\u001b[39m LinearRegression()\n\u001b[0;32m---> 11\u001b[0m model\u001b[38;5;241m.\u001b[39mfit(X_train, y_train)\n\u001b[1;32m     13\u001b[0m \u001b[38;5;66;03m# Predicting on the test set\u001b[39;00m\n\u001b[1;32m     14\u001b[0m y_pred \u001b[38;5;241m=\u001b[39m model\u001b[38;5;241m.\u001b[39mpredict(X_test)\n",
      "File \u001b[0;32m~/anaconda3/lib/python3.11/site-packages/sklearn/base.py:1151\u001b[0m, in \u001b[0;36m_fit_context.<locals>.decorator.<locals>.wrapper\u001b[0;34m(estimator, *args, **kwargs)\u001b[0m\n\u001b[1;32m   1144\u001b[0m     estimator\u001b[38;5;241m.\u001b[39m_validate_params()\n\u001b[1;32m   1146\u001b[0m \u001b[38;5;28;01mwith\u001b[39;00m config_context(\n\u001b[1;32m   1147\u001b[0m     skip_parameter_validation\u001b[38;5;241m=\u001b[39m(\n\u001b[1;32m   1148\u001b[0m         prefer_skip_nested_validation \u001b[38;5;129;01mor\u001b[39;00m global_skip_validation\n\u001b[1;32m   1149\u001b[0m     )\n\u001b[1;32m   1150\u001b[0m ):\n\u001b[0;32m-> 1151\u001b[0m     \u001b[38;5;28;01mreturn\u001b[39;00m fit_method(estimator, \u001b[38;5;241m*\u001b[39margs, \u001b[38;5;241m*\u001b[39m\u001b[38;5;241m*\u001b[39mkwargs)\n",
      "File \u001b[0;32m~/anaconda3/lib/python3.11/site-packages/sklearn/linear_model/_base.py:678\u001b[0m, in \u001b[0;36mLinearRegression.fit\u001b[0;34m(self, X, y, sample_weight)\u001b[0m\n\u001b[1;32m    674\u001b[0m n_jobs_ \u001b[38;5;241m=\u001b[39m \u001b[38;5;28mself\u001b[39m\u001b[38;5;241m.\u001b[39mn_jobs\n\u001b[1;32m    676\u001b[0m accept_sparse \u001b[38;5;241m=\u001b[39m \u001b[38;5;28;01mFalse\u001b[39;00m \u001b[38;5;28;01mif\u001b[39;00m \u001b[38;5;28mself\u001b[39m\u001b[38;5;241m.\u001b[39mpositive \u001b[38;5;28;01melse\u001b[39;00m [\u001b[38;5;124m\"\u001b[39m\u001b[38;5;124mcsr\u001b[39m\u001b[38;5;124m\"\u001b[39m, \u001b[38;5;124m\"\u001b[39m\u001b[38;5;124mcsc\u001b[39m\u001b[38;5;124m\"\u001b[39m, \u001b[38;5;124m\"\u001b[39m\u001b[38;5;124mcoo\u001b[39m\u001b[38;5;124m\"\u001b[39m]\n\u001b[0;32m--> 678\u001b[0m X, y \u001b[38;5;241m=\u001b[39m \u001b[38;5;28mself\u001b[39m\u001b[38;5;241m.\u001b[39m_validate_data(\n\u001b[1;32m    679\u001b[0m     X, y, accept_sparse\u001b[38;5;241m=\u001b[39maccept_sparse, y_numeric\u001b[38;5;241m=\u001b[39m\u001b[38;5;28;01mTrue\u001b[39;00m, multi_output\u001b[38;5;241m=\u001b[39m\u001b[38;5;28;01mTrue\u001b[39;00m\n\u001b[1;32m    680\u001b[0m )\n\u001b[1;32m    682\u001b[0m has_sw \u001b[38;5;241m=\u001b[39m sample_weight \u001b[38;5;129;01mis\u001b[39;00m \u001b[38;5;129;01mnot\u001b[39;00m \u001b[38;5;28;01mNone\u001b[39;00m\n\u001b[1;32m    683\u001b[0m \u001b[38;5;28;01mif\u001b[39;00m has_sw:\n",
      "File \u001b[0;32m~/anaconda3/lib/python3.11/site-packages/sklearn/base.py:621\u001b[0m, in \u001b[0;36mBaseEstimator._validate_data\u001b[0;34m(self, X, y, reset, validate_separately, cast_to_ndarray, **check_params)\u001b[0m\n\u001b[1;32m    619\u001b[0m         y \u001b[38;5;241m=\u001b[39m check_array(y, input_name\u001b[38;5;241m=\u001b[39m\u001b[38;5;124m\"\u001b[39m\u001b[38;5;124my\u001b[39m\u001b[38;5;124m\"\u001b[39m, \u001b[38;5;241m*\u001b[39m\u001b[38;5;241m*\u001b[39mcheck_y_params)\n\u001b[1;32m    620\u001b[0m     \u001b[38;5;28;01melse\u001b[39;00m:\n\u001b[0;32m--> 621\u001b[0m         X, y \u001b[38;5;241m=\u001b[39m check_X_y(X, y, \u001b[38;5;241m*\u001b[39m\u001b[38;5;241m*\u001b[39mcheck_params)\n\u001b[1;32m    622\u001b[0m     out \u001b[38;5;241m=\u001b[39m X, y\n\u001b[1;32m    624\u001b[0m \u001b[38;5;28;01mif\u001b[39;00m \u001b[38;5;129;01mnot\u001b[39;00m no_val_X \u001b[38;5;129;01mand\u001b[39;00m check_params\u001b[38;5;241m.\u001b[39mget(\u001b[38;5;124m\"\u001b[39m\u001b[38;5;124mensure_2d\u001b[39m\u001b[38;5;124m\"\u001b[39m, \u001b[38;5;28;01mTrue\u001b[39;00m):\n",
      "File \u001b[0;32m~/anaconda3/lib/python3.11/site-packages/sklearn/utils/validation.py:1147\u001b[0m, in \u001b[0;36mcheck_X_y\u001b[0;34m(X, y, accept_sparse, accept_large_sparse, dtype, order, copy, force_all_finite, ensure_2d, allow_nd, multi_output, ensure_min_samples, ensure_min_features, y_numeric, estimator)\u001b[0m\n\u001b[1;32m   1142\u001b[0m         estimator_name \u001b[38;5;241m=\u001b[39m _check_estimator_name(estimator)\n\u001b[1;32m   1143\u001b[0m     \u001b[38;5;28;01mraise\u001b[39;00m \u001b[38;5;167;01mValueError\u001b[39;00m(\n\u001b[1;32m   1144\u001b[0m         \u001b[38;5;124mf\u001b[39m\u001b[38;5;124m\"\u001b[39m\u001b[38;5;132;01m{\u001b[39;00mestimator_name\u001b[38;5;132;01m}\u001b[39;00m\u001b[38;5;124m requires y to be passed, but the target y is None\u001b[39m\u001b[38;5;124m\"\u001b[39m\n\u001b[1;32m   1145\u001b[0m     )\n\u001b[0;32m-> 1147\u001b[0m X \u001b[38;5;241m=\u001b[39m check_array(\n\u001b[1;32m   1148\u001b[0m     X,\n\u001b[1;32m   1149\u001b[0m     accept_sparse\u001b[38;5;241m=\u001b[39maccept_sparse,\n\u001b[1;32m   1150\u001b[0m     accept_large_sparse\u001b[38;5;241m=\u001b[39maccept_large_sparse,\n\u001b[1;32m   1151\u001b[0m     dtype\u001b[38;5;241m=\u001b[39mdtype,\n\u001b[1;32m   1152\u001b[0m     order\u001b[38;5;241m=\u001b[39morder,\n\u001b[1;32m   1153\u001b[0m     copy\u001b[38;5;241m=\u001b[39mcopy,\n\u001b[1;32m   1154\u001b[0m     force_all_finite\u001b[38;5;241m=\u001b[39mforce_all_finite,\n\u001b[1;32m   1155\u001b[0m     ensure_2d\u001b[38;5;241m=\u001b[39mensure_2d,\n\u001b[1;32m   1156\u001b[0m     allow_nd\u001b[38;5;241m=\u001b[39mallow_nd,\n\u001b[1;32m   1157\u001b[0m     ensure_min_samples\u001b[38;5;241m=\u001b[39mensure_min_samples,\n\u001b[1;32m   1158\u001b[0m     ensure_min_features\u001b[38;5;241m=\u001b[39mensure_min_features,\n\u001b[1;32m   1159\u001b[0m     estimator\u001b[38;5;241m=\u001b[39mestimator,\n\u001b[1;32m   1160\u001b[0m     input_name\u001b[38;5;241m=\u001b[39m\u001b[38;5;124m\"\u001b[39m\u001b[38;5;124mX\u001b[39m\u001b[38;5;124m\"\u001b[39m,\n\u001b[1;32m   1161\u001b[0m )\n\u001b[1;32m   1163\u001b[0m y \u001b[38;5;241m=\u001b[39m _check_y(y, multi_output\u001b[38;5;241m=\u001b[39mmulti_output, y_numeric\u001b[38;5;241m=\u001b[39my_numeric, estimator\u001b[38;5;241m=\u001b[39mestimator)\n\u001b[1;32m   1165\u001b[0m check_consistent_length(X, y)\n",
      "File \u001b[0;32m~/anaconda3/lib/python3.11/site-packages/sklearn/utils/validation.py:917\u001b[0m, in \u001b[0;36mcheck_array\u001b[0;34m(array, accept_sparse, accept_large_sparse, dtype, order, copy, force_all_finite, ensure_2d, allow_nd, ensure_min_samples, ensure_min_features, estimator, input_name)\u001b[0m\n\u001b[1;32m    915\u001b[0m         array \u001b[38;5;241m=\u001b[39m xp\u001b[38;5;241m.\u001b[39mastype(array, dtype, copy\u001b[38;5;241m=\u001b[39m\u001b[38;5;28;01mFalse\u001b[39;00m)\n\u001b[1;32m    916\u001b[0m     \u001b[38;5;28;01melse\u001b[39;00m:\n\u001b[0;32m--> 917\u001b[0m         array \u001b[38;5;241m=\u001b[39m _asarray_with_order(array, order\u001b[38;5;241m=\u001b[39morder, dtype\u001b[38;5;241m=\u001b[39mdtype, xp\u001b[38;5;241m=\u001b[39mxp)\n\u001b[1;32m    918\u001b[0m \u001b[38;5;28;01mexcept\u001b[39;00m ComplexWarning \u001b[38;5;28;01mas\u001b[39;00m complex_warning:\n\u001b[1;32m    919\u001b[0m     \u001b[38;5;28;01mraise\u001b[39;00m \u001b[38;5;167;01mValueError\u001b[39;00m(\n\u001b[1;32m    920\u001b[0m         \u001b[38;5;124m\"\u001b[39m\u001b[38;5;124mComplex data not supported\u001b[39m\u001b[38;5;130;01m\\n\u001b[39;00m\u001b[38;5;132;01m{}\u001b[39;00m\u001b[38;5;130;01m\\n\u001b[39;00m\u001b[38;5;124m\"\u001b[39m\u001b[38;5;241m.\u001b[39mformat(array)\n\u001b[1;32m    921\u001b[0m     ) \u001b[38;5;28;01mfrom\u001b[39;00m \u001b[38;5;21;01mcomplex_warning\u001b[39;00m\n",
      "File \u001b[0;32m~/anaconda3/lib/python3.11/site-packages/sklearn/utils/_array_api.py:380\u001b[0m, in \u001b[0;36m_asarray_with_order\u001b[0;34m(array, dtype, order, copy, xp)\u001b[0m\n\u001b[1;32m    378\u001b[0m     array \u001b[38;5;241m=\u001b[39m numpy\u001b[38;5;241m.\u001b[39marray(array, order\u001b[38;5;241m=\u001b[39morder, dtype\u001b[38;5;241m=\u001b[39mdtype)\n\u001b[1;32m    379\u001b[0m \u001b[38;5;28;01melse\u001b[39;00m:\n\u001b[0;32m--> 380\u001b[0m     array \u001b[38;5;241m=\u001b[39m numpy\u001b[38;5;241m.\u001b[39masarray(array, order\u001b[38;5;241m=\u001b[39morder, dtype\u001b[38;5;241m=\u001b[39mdtype)\n\u001b[1;32m    382\u001b[0m \u001b[38;5;66;03m# At this point array is a NumPy ndarray. We convert it to an array\u001b[39;00m\n\u001b[1;32m    383\u001b[0m \u001b[38;5;66;03m# container that is consistent with the input's namespace.\u001b[39;00m\n\u001b[1;32m    384\u001b[0m \u001b[38;5;28;01mreturn\u001b[39;00m xp\u001b[38;5;241m.\u001b[39masarray(array)\n",
      "File \u001b[0;32m~/anaconda3/lib/python3.11/site-packages/pandas/core/generic.py:2070\u001b[0m, in \u001b[0;36mNDFrame.__array__\u001b[0;34m(self, dtype)\u001b[0m\n\u001b[1;32m   2069\u001b[0m \u001b[38;5;28;01mdef\u001b[39;00m \u001b[38;5;21m__array__\u001b[39m(\u001b[38;5;28mself\u001b[39m, dtype: npt\u001b[38;5;241m.\u001b[39mDTypeLike \u001b[38;5;241m|\u001b[39m \u001b[38;5;28;01mNone\u001b[39;00m \u001b[38;5;241m=\u001b[39m \u001b[38;5;28;01mNone\u001b[39;00m) \u001b[38;5;241m-\u001b[39m\u001b[38;5;241m>\u001b[39m np\u001b[38;5;241m.\u001b[39mndarray:\n\u001b[0;32m-> 2070\u001b[0m     \u001b[38;5;28;01mreturn\u001b[39;00m np\u001b[38;5;241m.\u001b[39masarray(\u001b[38;5;28mself\u001b[39m\u001b[38;5;241m.\u001b[39m_values, dtype\u001b[38;5;241m=\u001b[39mdtype)\n",
      "\u001b[0;31mValueError\u001b[0m: could not convert string to float: '08/28/2020 15:55:44'"
     ]
    }
   ],
   "source": [
    "from sklearn.model_selection import train_test_split\n",
    "from sklearn.linear_model import LinearRegression\n",
    "from sklearn.ensemble import RandomForestRegressor\n",
    "from sklearn.metrics import mean_squared_error\n",
    "\n",
    "# Example: Train a model for import_duty\n",
    "X_train, X_test, y_train, y_test = train_test_split(features, target_import_duty, test_size=0.2, random_state=42)\n",
    "\n",
    "# Using Linear Regression\n",
    "model = LinearRegression()\n",
    "model.fit(X_train, y_train)\n",
    "\n",
    "# Predicting on the test set\n",
    "y_pred = model.predict(X_test)\n",
    "\n",
    "# Evaluating the model\n",
    "mse = mean_squared_error(y_test, y_pred)\n",
    "print(f\"Mean Squared Error: {mse}\")\n"
   ]
  },
  {
   "cell_type": "code",
   "execution_count": null,
   "metadata": {},
   "outputs": [],
   "source": []
  },
  {
   "cell_type": "code",
   "execution_count": null,
   "metadata": {},
   "outputs": [],
   "source": []
  },
  {
   "cell_type": "code",
   "execution_count": null,
   "metadata": {},
   "outputs": [],
   "source": []
  },
  {
   "cell_type": "code",
   "execution_count": 30,
   "metadata": {},
   "outputs": [
    {
     "ename": "ValueError",
     "evalue": "Input X contains NaN.\nLinearRegression does not accept missing values encoded as NaN natively. For supervised learning, you might want to consider sklearn.ensemble.HistGradientBoostingClassifier and Regressor which accept missing values encoded as NaNs natively. Alternatively, it is possible to preprocess the data, for instance by using an imputer transformer in a pipeline or drop samples with missing values. See https://scikit-learn.org/stable/modules/impute.html You can find a list of all estimators that handle NaN values at the following page: https://scikit-learn.org/stable/modules/impute.html#estimators-that-handle-nan-values",
     "output_type": "error",
     "traceback": [
      "\u001b[0;31m---------------------------------------------------------------------------\u001b[0m",
      "\u001b[0;31mValueError\u001b[0m                                Traceback (most recent call last)",
      "Cell \u001b[0;32mIn[30], line 21\u001b[0m\n\u001b[1;32m     19\u001b[0m \u001b[38;5;66;03m# Train the model\u001b[39;00m\n\u001b[1;32m     20\u001b[0m model \u001b[38;5;241m=\u001b[39m LinearRegression()\n\u001b[0;32m---> 21\u001b[0m model\u001b[38;5;241m.\u001b[39mfit(X_train, y_train)\n\u001b[1;32m     23\u001b[0m \u001b[38;5;66;03m# Evaluate the model\u001b[39;00m\n\u001b[1;32m     24\u001b[0m y_pred \u001b[38;5;241m=\u001b[39m model\u001b[38;5;241m.\u001b[39mpredict(X_test)\n",
      "File \u001b[0;32m~/anaconda3/lib/python3.11/site-packages/sklearn/base.py:1151\u001b[0m, in \u001b[0;36m_fit_context.<locals>.decorator.<locals>.wrapper\u001b[0;34m(estimator, *args, **kwargs)\u001b[0m\n\u001b[1;32m   1144\u001b[0m     estimator\u001b[38;5;241m.\u001b[39m_validate_params()\n\u001b[1;32m   1146\u001b[0m \u001b[38;5;28;01mwith\u001b[39;00m config_context(\n\u001b[1;32m   1147\u001b[0m     skip_parameter_validation\u001b[38;5;241m=\u001b[39m(\n\u001b[1;32m   1148\u001b[0m         prefer_skip_nested_validation \u001b[38;5;129;01mor\u001b[39;00m global_skip_validation\n\u001b[1;32m   1149\u001b[0m     )\n\u001b[1;32m   1150\u001b[0m ):\n\u001b[0;32m-> 1151\u001b[0m     \u001b[38;5;28;01mreturn\u001b[39;00m fit_method(estimator, \u001b[38;5;241m*\u001b[39margs, \u001b[38;5;241m*\u001b[39m\u001b[38;5;241m*\u001b[39mkwargs)\n",
      "File \u001b[0;32m~/anaconda3/lib/python3.11/site-packages/sklearn/linear_model/_base.py:678\u001b[0m, in \u001b[0;36mLinearRegression.fit\u001b[0;34m(self, X, y, sample_weight)\u001b[0m\n\u001b[1;32m    674\u001b[0m n_jobs_ \u001b[38;5;241m=\u001b[39m \u001b[38;5;28mself\u001b[39m\u001b[38;5;241m.\u001b[39mn_jobs\n\u001b[1;32m    676\u001b[0m accept_sparse \u001b[38;5;241m=\u001b[39m \u001b[38;5;28;01mFalse\u001b[39;00m \u001b[38;5;28;01mif\u001b[39;00m \u001b[38;5;28mself\u001b[39m\u001b[38;5;241m.\u001b[39mpositive \u001b[38;5;28;01melse\u001b[39;00m [\u001b[38;5;124m\"\u001b[39m\u001b[38;5;124mcsr\u001b[39m\u001b[38;5;124m\"\u001b[39m, \u001b[38;5;124m\"\u001b[39m\u001b[38;5;124mcsc\u001b[39m\u001b[38;5;124m\"\u001b[39m, \u001b[38;5;124m\"\u001b[39m\u001b[38;5;124mcoo\u001b[39m\u001b[38;5;124m\"\u001b[39m]\n\u001b[0;32m--> 678\u001b[0m X, y \u001b[38;5;241m=\u001b[39m \u001b[38;5;28mself\u001b[39m\u001b[38;5;241m.\u001b[39m_validate_data(\n\u001b[1;32m    679\u001b[0m     X, y, accept_sparse\u001b[38;5;241m=\u001b[39maccept_sparse, y_numeric\u001b[38;5;241m=\u001b[39m\u001b[38;5;28;01mTrue\u001b[39;00m, multi_output\u001b[38;5;241m=\u001b[39m\u001b[38;5;28;01mTrue\u001b[39;00m\n\u001b[1;32m    680\u001b[0m )\n\u001b[1;32m    682\u001b[0m has_sw \u001b[38;5;241m=\u001b[39m sample_weight \u001b[38;5;129;01mis\u001b[39;00m \u001b[38;5;129;01mnot\u001b[39;00m \u001b[38;5;28;01mNone\u001b[39;00m\n\u001b[1;32m    683\u001b[0m \u001b[38;5;28;01mif\u001b[39;00m has_sw:\n",
      "File \u001b[0;32m~/anaconda3/lib/python3.11/site-packages/sklearn/base.py:621\u001b[0m, in \u001b[0;36mBaseEstimator._validate_data\u001b[0;34m(self, X, y, reset, validate_separately, cast_to_ndarray, **check_params)\u001b[0m\n\u001b[1;32m    619\u001b[0m         y \u001b[38;5;241m=\u001b[39m check_array(y, input_name\u001b[38;5;241m=\u001b[39m\u001b[38;5;124m\"\u001b[39m\u001b[38;5;124my\u001b[39m\u001b[38;5;124m\"\u001b[39m, \u001b[38;5;241m*\u001b[39m\u001b[38;5;241m*\u001b[39mcheck_y_params)\n\u001b[1;32m    620\u001b[0m     \u001b[38;5;28;01melse\u001b[39;00m:\n\u001b[0;32m--> 621\u001b[0m         X, y \u001b[38;5;241m=\u001b[39m check_X_y(X, y, \u001b[38;5;241m*\u001b[39m\u001b[38;5;241m*\u001b[39mcheck_params)\n\u001b[1;32m    622\u001b[0m     out \u001b[38;5;241m=\u001b[39m X, y\n\u001b[1;32m    624\u001b[0m \u001b[38;5;28;01mif\u001b[39;00m \u001b[38;5;129;01mnot\u001b[39;00m no_val_X \u001b[38;5;129;01mand\u001b[39;00m check_params\u001b[38;5;241m.\u001b[39mget(\u001b[38;5;124m\"\u001b[39m\u001b[38;5;124mensure_2d\u001b[39m\u001b[38;5;124m\"\u001b[39m, \u001b[38;5;28;01mTrue\u001b[39;00m):\n",
      "File \u001b[0;32m~/anaconda3/lib/python3.11/site-packages/sklearn/utils/validation.py:1147\u001b[0m, in \u001b[0;36mcheck_X_y\u001b[0;34m(X, y, accept_sparse, accept_large_sparse, dtype, order, copy, force_all_finite, ensure_2d, allow_nd, multi_output, ensure_min_samples, ensure_min_features, y_numeric, estimator)\u001b[0m\n\u001b[1;32m   1142\u001b[0m         estimator_name \u001b[38;5;241m=\u001b[39m _check_estimator_name(estimator)\n\u001b[1;32m   1143\u001b[0m     \u001b[38;5;28;01mraise\u001b[39;00m \u001b[38;5;167;01mValueError\u001b[39;00m(\n\u001b[1;32m   1144\u001b[0m         \u001b[38;5;124mf\u001b[39m\u001b[38;5;124m\"\u001b[39m\u001b[38;5;132;01m{\u001b[39;00mestimator_name\u001b[38;5;132;01m}\u001b[39;00m\u001b[38;5;124m requires y to be passed, but the target y is None\u001b[39m\u001b[38;5;124m\"\u001b[39m\n\u001b[1;32m   1145\u001b[0m     )\n\u001b[0;32m-> 1147\u001b[0m X \u001b[38;5;241m=\u001b[39m check_array(\n\u001b[1;32m   1148\u001b[0m     X,\n\u001b[1;32m   1149\u001b[0m     accept_sparse\u001b[38;5;241m=\u001b[39maccept_sparse,\n\u001b[1;32m   1150\u001b[0m     accept_large_sparse\u001b[38;5;241m=\u001b[39maccept_large_sparse,\n\u001b[1;32m   1151\u001b[0m     dtype\u001b[38;5;241m=\u001b[39mdtype,\n\u001b[1;32m   1152\u001b[0m     order\u001b[38;5;241m=\u001b[39morder,\n\u001b[1;32m   1153\u001b[0m     copy\u001b[38;5;241m=\u001b[39mcopy,\n\u001b[1;32m   1154\u001b[0m     force_all_finite\u001b[38;5;241m=\u001b[39mforce_all_finite,\n\u001b[1;32m   1155\u001b[0m     ensure_2d\u001b[38;5;241m=\u001b[39mensure_2d,\n\u001b[1;32m   1156\u001b[0m     allow_nd\u001b[38;5;241m=\u001b[39mallow_nd,\n\u001b[1;32m   1157\u001b[0m     ensure_min_samples\u001b[38;5;241m=\u001b[39mensure_min_samples,\n\u001b[1;32m   1158\u001b[0m     ensure_min_features\u001b[38;5;241m=\u001b[39mensure_min_features,\n\u001b[1;32m   1159\u001b[0m     estimator\u001b[38;5;241m=\u001b[39mestimator,\n\u001b[1;32m   1160\u001b[0m     input_name\u001b[38;5;241m=\u001b[39m\u001b[38;5;124m\"\u001b[39m\u001b[38;5;124mX\u001b[39m\u001b[38;5;124m\"\u001b[39m,\n\u001b[1;32m   1161\u001b[0m )\n\u001b[1;32m   1163\u001b[0m y \u001b[38;5;241m=\u001b[39m _check_y(y, multi_output\u001b[38;5;241m=\u001b[39mmulti_output, y_numeric\u001b[38;5;241m=\u001b[39my_numeric, estimator\u001b[38;5;241m=\u001b[39mestimator)\n\u001b[1;32m   1165\u001b[0m check_consistent_length(X, y)\n",
      "File \u001b[0;32m~/anaconda3/lib/python3.11/site-packages/sklearn/utils/validation.py:959\u001b[0m, in \u001b[0;36mcheck_array\u001b[0;34m(array, accept_sparse, accept_large_sparse, dtype, order, copy, force_all_finite, ensure_2d, allow_nd, ensure_min_samples, ensure_min_features, estimator, input_name)\u001b[0m\n\u001b[1;32m    953\u001b[0m         \u001b[38;5;28;01mraise\u001b[39;00m \u001b[38;5;167;01mValueError\u001b[39;00m(\n\u001b[1;32m    954\u001b[0m             \u001b[38;5;124m\"\u001b[39m\u001b[38;5;124mFound array with dim \u001b[39m\u001b[38;5;132;01m%d\u001b[39;00m\u001b[38;5;124m. \u001b[39m\u001b[38;5;132;01m%s\u001b[39;00m\u001b[38;5;124m expected <= 2.\u001b[39m\u001b[38;5;124m\"\u001b[39m\n\u001b[1;32m    955\u001b[0m             \u001b[38;5;241m%\u001b[39m (array\u001b[38;5;241m.\u001b[39mndim, estimator_name)\n\u001b[1;32m    956\u001b[0m         )\n\u001b[1;32m    958\u001b[0m     \u001b[38;5;28;01mif\u001b[39;00m force_all_finite:\n\u001b[0;32m--> 959\u001b[0m         _assert_all_finite(\n\u001b[1;32m    960\u001b[0m             array,\n\u001b[1;32m    961\u001b[0m             input_name\u001b[38;5;241m=\u001b[39minput_name,\n\u001b[1;32m    962\u001b[0m             estimator_name\u001b[38;5;241m=\u001b[39mestimator_name,\n\u001b[1;32m    963\u001b[0m             allow_nan\u001b[38;5;241m=\u001b[39mforce_all_finite \u001b[38;5;241m==\u001b[39m \u001b[38;5;124m\"\u001b[39m\u001b[38;5;124mallow-nan\u001b[39m\u001b[38;5;124m\"\u001b[39m,\n\u001b[1;32m    964\u001b[0m         )\n\u001b[1;32m    966\u001b[0m \u001b[38;5;28;01mif\u001b[39;00m ensure_min_samples \u001b[38;5;241m>\u001b[39m \u001b[38;5;241m0\u001b[39m:\n\u001b[1;32m    967\u001b[0m     n_samples \u001b[38;5;241m=\u001b[39m _num_samples(array)\n",
      "File \u001b[0;32m~/anaconda3/lib/python3.11/site-packages/sklearn/utils/validation.py:124\u001b[0m, in \u001b[0;36m_assert_all_finite\u001b[0;34m(X, allow_nan, msg_dtype, estimator_name, input_name)\u001b[0m\n\u001b[1;32m    121\u001b[0m \u001b[38;5;28;01mif\u001b[39;00m first_pass_isfinite:\n\u001b[1;32m    122\u001b[0m     \u001b[38;5;28;01mreturn\u001b[39;00m\n\u001b[0;32m--> 124\u001b[0m _assert_all_finite_element_wise(\n\u001b[1;32m    125\u001b[0m     X,\n\u001b[1;32m    126\u001b[0m     xp\u001b[38;5;241m=\u001b[39mxp,\n\u001b[1;32m    127\u001b[0m     allow_nan\u001b[38;5;241m=\u001b[39mallow_nan,\n\u001b[1;32m    128\u001b[0m     msg_dtype\u001b[38;5;241m=\u001b[39mmsg_dtype,\n\u001b[1;32m    129\u001b[0m     estimator_name\u001b[38;5;241m=\u001b[39mestimator_name,\n\u001b[1;32m    130\u001b[0m     input_name\u001b[38;5;241m=\u001b[39minput_name,\n\u001b[1;32m    131\u001b[0m )\n",
      "File \u001b[0;32m~/anaconda3/lib/python3.11/site-packages/sklearn/utils/validation.py:173\u001b[0m, in \u001b[0;36m_assert_all_finite_element_wise\u001b[0;34m(X, xp, allow_nan, msg_dtype, estimator_name, input_name)\u001b[0m\n\u001b[1;32m    156\u001b[0m \u001b[38;5;28;01mif\u001b[39;00m estimator_name \u001b[38;5;129;01mand\u001b[39;00m input_name \u001b[38;5;241m==\u001b[39m \u001b[38;5;124m\"\u001b[39m\u001b[38;5;124mX\u001b[39m\u001b[38;5;124m\"\u001b[39m \u001b[38;5;129;01mand\u001b[39;00m has_nan_error:\n\u001b[1;32m    157\u001b[0m     \u001b[38;5;66;03m# Improve the error message on how to handle missing values in\u001b[39;00m\n\u001b[1;32m    158\u001b[0m     \u001b[38;5;66;03m# scikit-learn.\u001b[39;00m\n\u001b[1;32m    159\u001b[0m     msg_err \u001b[38;5;241m+\u001b[39m\u001b[38;5;241m=\u001b[39m (\n\u001b[1;32m    160\u001b[0m         \u001b[38;5;124mf\u001b[39m\u001b[38;5;124m\"\u001b[39m\u001b[38;5;130;01m\\n\u001b[39;00m\u001b[38;5;132;01m{\u001b[39;00mestimator_name\u001b[38;5;132;01m}\u001b[39;00m\u001b[38;5;124m does not accept missing values\u001b[39m\u001b[38;5;124m\"\u001b[39m\n\u001b[1;32m    161\u001b[0m         \u001b[38;5;124m\"\u001b[39m\u001b[38;5;124m encoded as NaN natively. For supervised learning, you might want\u001b[39m\u001b[38;5;124m\"\u001b[39m\n\u001b[0;32m   (...)\u001b[0m\n\u001b[1;32m    171\u001b[0m         \u001b[38;5;124m\"\u001b[39m\u001b[38;5;124m#estimators-that-handle-nan-values\u001b[39m\u001b[38;5;124m\"\u001b[39m\n\u001b[1;32m    172\u001b[0m     )\n\u001b[0;32m--> 173\u001b[0m \u001b[38;5;28;01mraise\u001b[39;00m \u001b[38;5;167;01mValueError\u001b[39;00m(msg_err)\n",
      "\u001b[0;31mValueError\u001b[0m: Input X contains NaN.\nLinearRegression does not accept missing values encoded as NaN natively. For supervised learning, you might want to consider sklearn.ensemble.HistGradientBoostingClassifier and Regressor which accept missing values encoded as NaNs natively. Alternatively, it is possible to preprocess the data, for instance by using an imputer transformer in a pipeline or drop samples with missing values. See https://scikit-learn.org/stable/modules/impute.html You can find a list of all estimators that handle NaN values at the following page: https://scikit-learn.org/stable/modules/impute.html#estimators-that-handle-nan-values"
     ]
    }
   ],
   "source": [
    "from sklearn.model_selection import train_test_split\n",
    "from sklearn.linear_model import LinearRegression\n",
    "from sklearn.metrics import mean_squared_error\n",
    "\n",
    "# Assuming 'data' is your DataFrame\n",
    "# Drop rows with NaN in 'import_duty' for training\n",
    "train_data = df.dropna(subset=['import_duty'])\n",
    "\n",
    "# Define X (features) and y (target)\n",
    "X = train_data[['cif_value', 'excise', 'import_vat', 'duty_rate', 'excise_rate', 'vat_rate', 'vehicle_tax', 'other_tax']]\n",
    "y = train_data['import_duty']\n",
    "\n",
    "# Encode categorical variables\n",
    "# X = pd.get_dummies(X, columns=['countryoforigin', 'port_of_discharge', 'currency'], drop_first=True)\n",
    "\n",
    "# Train-test split\n",
    "X_train, X_test, y_train, y_test = train_test_split(X, y, test_size=0.2, random_state=42)\n",
    "\n",
    "# Train the model\n",
    "model = LinearRegression()\n",
    "model.fit(X_train, y_train)\n",
    "\n",
    "# Evaluate the model\n",
    "y_pred = model.predict(X_test)\n",
    "print(f\"Mean Squared Error: {mean_squared_error(y_test, y_pred)}\")\n"
   ]
  },
  {
   "cell_type": "code",
   "execution_count": 24,
   "metadata": {},
   "outputs": [
    {
     "ename": "ValueError",
     "evalue": "could not convert string to float: '43:30.0'",
     "output_type": "error",
     "traceback": [
      "\u001b[0;31m---------------------------------------------------------------------------\u001b[0m",
      "\u001b[0;31mValueError\u001b[0m                                Traceback (most recent call last)",
      "Cell \u001b[0;32mIn[24], line 10\u001b[0m\n\u001b[1;32m      7\u001b[0m     \u001b[38;5;28;01mreturn\u001b[39;00m \u001b[38;5;28mfloat\u001b[39m(value)  \u001b[38;5;66;03m# Convert to float\u001b[39;00m\n\u001b[1;32m      9\u001b[0m \u001b[38;5;66;03m# Apply the function to the entire DataFrame\u001b[39;00m\n\u001b[0;32m---> 10\u001b[0m df \u001b[38;5;241m=\u001b[39m df\u001b[38;5;241m.\u001b[39mapplymap(clean_and_convert)\n\u001b[1;32m     12\u001b[0m \u001b[38;5;66;03m# Separate features and target\u001b[39;00m\n\u001b[1;32m     13\u001b[0m X \u001b[38;5;241m=\u001b[39m df[[\u001b[38;5;124m'\u001b[39m\u001b[38;5;124mfeature1\u001b[39m\u001b[38;5;124m'\u001b[39m, \u001b[38;5;124m'\u001b[39m\u001b[38;5;124mfeature2\u001b[39m\u001b[38;5;124m'\u001b[39m]]\n",
      "File \u001b[0;32m~/anaconda3/lib/python3.11/site-packages/pandas/core/frame.py:9653\u001b[0m, in \u001b[0;36mDataFrame.applymap\u001b[0;34m(self, func, na_action, **kwargs)\u001b[0m\n\u001b[1;32m   9650\u001b[0m         \u001b[38;5;28;01mreturn\u001b[39;00m lib\u001b[38;5;241m.\u001b[39mmap_infer(x, func, ignore_na\u001b[38;5;241m=\u001b[39mignore_na)\n\u001b[1;32m   9651\u001b[0m     \u001b[38;5;28;01mreturn\u001b[39;00m lib\u001b[38;5;241m.\u001b[39mmap_infer(x\u001b[38;5;241m.\u001b[39mastype(\u001b[38;5;28mobject\u001b[39m)\u001b[38;5;241m.\u001b[39m_values, func, ignore_na\u001b[38;5;241m=\u001b[39mignore_na)\n\u001b[0;32m-> 9653\u001b[0m \u001b[38;5;28;01mreturn\u001b[39;00m \u001b[38;5;28mself\u001b[39m\u001b[38;5;241m.\u001b[39mapply(infer)\u001b[38;5;241m.\u001b[39m__finalize__(\u001b[38;5;28mself\u001b[39m, \u001b[38;5;124m\"\u001b[39m\u001b[38;5;124mapplymap\u001b[39m\u001b[38;5;124m\"\u001b[39m)\n",
      "File \u001b[0;32m~/anaconda3/lib/python3.11/site-packages/pandas/core/frame.py:9568\u001b[0m, in \u001b[0;36mDataFrame.apply\u001b[0;34m(self, func, axis, raw, result_type, args, **kwargs)\u001b[0m\n\u001b[1;32m   9557\u001b[0m \u001b[38;5;28;01mfrom\u001b[39;00m \u001b[38;5;21;01mpandas\u001b[39;00m\u001b[38;5;21;01m.\u001b[39;00m\u001b[38;5;21;01mcore\u001b[39;00m\u001b[38;5;21;01m.\u001b[39;00m\u001b[38;5;21;01mapply\u001b[39;00m \u001b[38;5;28;01mimport\u001b[39;00m frame_apply\n\u001b[1;32m   9559\u001b[0m op \u001b[38;5;241m=\u001b[39m frame_apply(\n\u001b[1;32m   9560\u001b[0m     \u001b[38;5;28mself\u001b[39m,\n\u001b[1;32m   9561\u001b[0m     func\u001b[38;5;241m=\u001b[39mfunc,\n\u001b[0;32m   (...)\u001b[0m\n\u001b[1;32m   9566\u001b[0m     kwargs\u001b[38;5;241m=\u001b[39mkwargs,\n\u001b[1;32m   9567\u001b[0m )\n\u001b[0;32m-> 9568\u001b[0m \u001b[38;5;28;01mreturn\u001b[39;00m op\u001b[38;5;241m.\u001b[39mapply()\u001b[38;5;241m.\u001b[39m__finalize__(\u001b[38;5;28mself\u001b[39m, method\u001b[38;5;241m=\u001b[39m\u001b[38;5;124m\"\u001b[39m\u001b[38;5;124mapply\u001b[39m\u001b[38;5;124m\"\u001b[39m)\n",
      "File \u001b[0;32m~/anaconda3/lib/python3.11/site-packages/pandas/core/apply.py:764\u001b[0m, in \u001b[0;36mFrameApply.apply\u001b[0;34m(self)\u001b[0m\n\u001b[1;32m    761\u001b[0m \u001b[38;5;28;01melif\u001b[39;00m \u001b[38;5;28mself\u001b[39m\u001b[38;5;241m.\u001b[39mraw:\n\u001b[1;32m    762\u001b[0m     \u001b[38;5;28;01mreturn\u001b[39;00m \u001b[38;5;28mself\u001b[39m\u001b[38;5;241m.\u001b[39mapply_raw()\n\u001b[0;32m--> 764\u001b[0m \u001b[38;5;28;01mreturn\u001b[39;00m \u001b[38;5;28mself\u001b[39m\u001b[38;5;241m.\u001b[39mapply_standard()\n",
      "File \u001b[0;32m~/anaconda3/lib/python3.11/site-packages/pandas/core/apply.py:891\u001b[0m, in \u001b[0;36mFrameApply.apply_standard\u001b[0;34m(self)\u001b[0m\n\u001b[1;32m    890\u001b[0m \u001b[38;5;28;01mdef\u001b[39;00m \u001b[38;5;21mapply_standard\u001b[39m(\u001b[38;5;28mself\u001b[39m):\n\u001b[0;32m--> 891\u001b[0m     results, res_index \u001b[38;5;241m=\u001b[39m \u001b[38;5;28mself\u001b[39m\u001b[38;5;241m.\u001b[39mapply_series_generator()\n\u001b[1;32m    893\u001b[0m     \u001b[38;5;66;03m# wrap results\u001b[39;00m\n\u001b[1;32m    894\u001b[0m     \u001b[38;5;28;01mreturn\u001b[39;00m \u001b[38;5;28mself\u001b[39m\u001b[38;5;241m.\u001b[39mwrap_results(results, res_index)\n",
      "File \u001b[0;32m~/anaconda3/lib/python3.11/site-packages/pandas/core/apply.py:907\u001b[0m, in \u001b[0;36mFrameApply.apply_series_generator\u001b[0;34m(self)\u001b[0m\n\u001b[1;32m    904\u001b[0m \u001b[38;5;28;01mwith\u001b[39;00m option_context(\u001b[38;5;124m\"\u001b[39m\u001b[38;5;124mmode.chained_assignment\u001b[39m\u001b[38;5;124m\"\u001b[39m, \u001b[38;5;28;01mNone\u001b[39;00m):\n\u001b[1;32m    905\u001b[0m     \u001b[38;5;28;01mfor\u001b[39;00m i, v \u001b[38;5;129;01min\u001b[39;00m \u001b[38;5;28menumerate\u001b[39m(series_gen):\n\u001b[1;32m    906\u001b[0m         \u001b[38;5;66;03m# ignore SettingWithCopy here in case the user mutates\u001b[39;00m\n\u001b[0;32m--> 907\u001b[0m         results[i] \u001b[38;5;241m=\u001b[39m \u001b[38;5;28mself\u001b[39m\u001b[38;5;241m.\u001b[39mf(v)\n\u001b[1;32m    908\u001b[0m         \u001b[38;5;28;01mif\u001b[39;00m \u001b[38;5;28misinstance\u001b[39m(results[i], ABCSeries):\n\u001b[1;32m    909\u001b[0m             \u001b[38;5;66;03m# If we have a view on v, we need to make a copy because\u001b[39;00m\n\u001b[1;32m    910\u001b[0m             \u001b[38;5;66;03m#  series_generator will swap out the underlying data\u001b[39;00m\n\u001b[1;32m    911\u001b[0m             results[i] \u001b[38;5;241m=\u001b[39m results[i]\u001b[38;5;241m.\u001b[39mcopy(deep\u001b[38;5;241m=\u001b[39m\u001b[38;5;28;01mFalse\u001b[39;00m)\n",
      "File \u001b[0;32m~/anaconda3/lib/python3.11/site-packages/pandas/core/frame.py:9651\u001b[0m, in \u001b[0;36mDataFrame.applymap.<locals>.infer\u001b[0;34m(x)\u001b[0m\n\u001b[1;32m   9649\u001b[0m \u001b[38;5;28;01mif\u001b[39;00m x\u001b[38;5;241m.\u001b[39mempty:\n\u001b[1;32m   9650\u001b[0m     \u001b[38;5;28;01mreturn\u001b[39;00m lib\u001b[38;5;241m.\u001b[39mmap_infer(x, func, ignore_na\u001b[38;5;241m=\u001b[39mignore_na)\n\u001b[0;32m-> 9651\u001b[0m \u001b[38;5;28;01mreturn\u001b[39;00m lib\u001b[38;5;241m.\u001b[39mmap_infer(x\u001b[38;5;241m.\u001b[39mastype(\u001b[38;5;28mobject\u001b[39m)\u001b[38;5;241m.\u001b[39m_values, func, ignore_na\u001b[38;5;241m=\u001b[39mignore_na)\n",
      "File \u001b[0;32m~/anaconda3/lib/python3.11/site-packages/pandas/_libs/lib.pyx:2924\u001b[0m, in \u001b[0;36mpandas._libs.lib.map_infer\u001b[0;34m()\u001b[0m\n",
      "Cell \u001b[0;32mIn[24], line 7\u001b[0m, in \u001b[0;36mclean_and_convert\u001b[0;34m(value)\u001b[0m\n\u001b[1;32m      5\u001b[0m \u001b[38;5;28;01mif\u001b[39;00m \u001b[38;5;28misinstance\u001b[39m(value, \u001b[38;5;28mstr\u001b[39m):\n\u001b[1;32m      6\u001b[0m     value \u001b[38;5;241m=\u001b[39m value\u001b[38;5;241m.\u001b[39mreplace(\u001b[38;5;124m'\u001b[39m\u001b[38;5;124m,\u001b[39m\u001b[38;5;124m'\u001b[39m, \u001b[38;5;124m'\u001b[39m\u001b[38;5;124m'\u001b[39m)  \u001b[38;5;66;03m# Remove commas\u001b[39;00m\n\u001b[0;32m----> 7\u001b[0m \u001b[38;5;28;01mreturn\u001b[39;00m \u001b[38;5;28mfloat\u001b[39m(value)\n",
      "\u001b[0;31mValueError\u001b[0m: could not convert string to float: '43:30.0'"
     ]
    }
   ],
   "source": [
    "# df = pd.DataFrame(df)\n",
    "\n",
    "# Function to clean and convert to float\n",
    "def clean_and_convert(value):\n",
    "    if isinstance(value, str):\n",
    "        value = value.replace(',', '')  # Remove commas\n",
    "    return float(value)  # Convert to float\n",
    "\n",
    "# Apply the function to the entire DataFrame\n",
    "df = df.applymap(clean_and_convert)\n",
    "\n",
    "# Separate features and target\n",
    "X = df[['feature1', 'feature2']]\n",
    "y = df['target']\n",
    "\n",
    "# Split the data into training and testing sets (for demonstration)\n",
    "from sklearn.model_selection import train_test_split\n",
    "X_train, X_test, y_train, y_test = train_test_split(X, y, test_size=0.2, random_state=42)\n",
    "\n",
    "# Train the model\n",
    "model = LinearRegression()\n",
    "model.fit(X_train, y_train)\n",
    "\n",
    "# Evaluate the model\n",
    "y_pred = model.predict(X_test)\n",
    "\n",
    "print(f\"Predictions: {y_pred}\")"
   ]
  },
  {
   "cell_type": "code",
   "execution_count": null,
   "metadata": {},
   "outputs": [],
   "source": []
  },
  {
   "cell_type": "code",
   "execution_count": null,
   "metadata": {},
   "outputs": [],
   "source": []
  }
 ],
 "metadata": {
  "kernelspec": {
   "display_name": "base",
   "language": "python",
   "name": "python3"
  },
  "language_info": {
   "codemirror_mode": {
    "name": "ipython",
    "version": 3
   },
   "file_extension": ".py",
   "mimetype": "text/x-python",
   "name": "python",
   "nbconvert_exporter": "python",
   "pygments_lexer": "ipython3",
   "version": "3.11.4"
  }
 },
 "nbformat": 4,
 "nbformat_minor": 2
}
